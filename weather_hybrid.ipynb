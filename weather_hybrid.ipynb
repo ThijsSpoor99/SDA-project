{
 "cells": [
  {
   "cell_type": "code",
   "execution_count": null,
   "metadata": {},
   "outputs": [],
   "source": [
    "import numpy as np\n",
    "import pandas as pd\n",
    "import matplotlib.pyplot as plt\n",
    "import scipy"
   ]
  },
  {
   "cell_type": "code",
   "execution_count": null,
   "metadata": {},
   "outputs": [],
   "source": [
    "df_bilt = pd.read_csv('Data/de_bilt_weather.csv')\n",
    "df_bilt['days'] = df_bilt['days'] - 1\n",
    "df_bilt2000 = df_bilt.loc[df_bilt['year'] == 2000].copy()\n",
    "df_bilt2001 = df_bilt.loc[df_bilt['year'] == 2001].copy()\n",
    "\n",
    "variables = ['cloud_cover', 'wind_speed', 'wind_gust', 'humidity',          # george\n",
    "            'pressure', 'global_radiation', 'precipitation', 'sunshine',    # skipper\n",
    "            'temp_mean', 'temp_min', 'temp_max']                            # thijs\n",
    "\n",
    "n_var = len(variables)"
   ]
  },
  {
   "cell_type": "code",
   "execution_count": null,
   "metadata": {},
   "outputs": [],
   "source": [
    "def DFT(data):\n",
    "    N = len(data)\n",
    "    \n",
    "    k_array = np.arange(N)\n",
    "    t_array = np.arange(N)\n",
    "\n",
    "    exponentials =  np.exp(-2j * np.pi * np.outer(k_array, t_array) / N)\n",
    "    coefs = exponentials @ data\n",
    "    \n",
    "    return k_array, coefs / N\n",
    "\n",
    "def reconstruct(t_array, k_array, coefs):\n",
    "    N = len(coefs)\n",
    "    data = np.zeros(len(t_array))\n",
    "\n",
    "    for k in k_array:\n",
    "        A = np.abs(coefs[k])\n",
    "        phase = np.angle(coefs[k])\n",
    "        data += A * np.cos(phase + 2 * np.pi * k * t_array / N)\n",
    "\n",
    "    return data"
   ]
  },
  {
   "cell_type": "code",
   "execution_count": null,
   "metadata": {},
   "outputs": [],
   "source": [
    "data = np.array(df_bilt2000['temp_mean'])\n",
    "t_data = np.array(df_bilt2000['days'])\n",
    "\n",
    "k, coefs = DFT(data)\n",
    "\n",
    "threshold = 0.005\n",
    "coefs_abs = np.abs(coefs)\n",
    "coefs_relative = coefs_abs / np.sum(coefs_abs)\n",
    "\n",
    "filtered_k = k[coefs_relative > threshold]\n",
    "\n",
    "data_transformed = reconstruct(t_data, filtered_k, coefs)\n",
    "\n",
    "plt.errorbar(t_data, data, label='data', color='tab:blue')\n",
    "\n",
    "plt.errorbar(t_data, data_transformed, label='transformed_data', color='black', fmt='--')\n",
    "plt.xlim(0, 100)\n",
    "plt.show()"
   ]
  },
  {
   "cell_type": "code",
   "execution_count": null,
   "metadata": {},
   "outputs": [],
   "source": [
    "data_transformed = []\n",
    "data_test = []\n",
    "residuals = []\n",
    "coefs_matrix = []\n",
    "k_filtered_array = []\n",
    "for variable_name in variables:\n",
    "    data = np.array(df_bilt2000[variable_name])\n",
    "    t_data = np.array(df_bilt2000['days'])\n",
    "\n",
    "    k, coefs = DFT(data)\n",
    "    coefs_matrix.append(coefs)\n",
    "\n",
    "    coefs_abs = np.abs(coefs)\n",
    "    coefs_relative = coefs_abs / np.sum(coefs_abs)\n",
    "\n",
    "    k_filtered = k[coefs_relative > threshold]\n",
    "    k_filtered_array.append(k_filtered)\n",
    "\n",
    "    data_transformed.append(reconstruct(t_data, k_filtered, coefs))\n",
    "    data_test.append(data)\n",
    "\n",
    "data_transformed = np.array(data_transformed)\n",
    "data_test = np.array(data_test)\n",
    "fourier_residuals = data_test - data_transformed\n",
    "\n",
    "k_filtered_array = np.array(k_filtered_array, dtype=object)\n",
    "coefs_matrix = np.array(coefs_matrix)"
   ]
  },
  {
   "cell_type": "code",
   "execution_count": null,
   "metadata": {},
   "outputs": [],
   "source": [
    "def var_initial_norm(params, data, n_var):\n",
    "    matrix = params.reshape(n_var, n_var)\n",
    "    prediction = matrix @ data[:, :-1]\n",
    "    return np.linalg.norm(data[:, 1:] - prediction)\n",
    "\n",
    "def fit_var(data):\n",
    "    # quess logical values to help fit\n",
    "    params = np.zeros((n_var, n_var)).flatten()\n",
    "        \n",
    "    # let scipy perform his magic\n",
    "    # Powell is slower, but appears to perform better than BFGS\n",
    "    result = scipy.optimize.minimize(var_initial_norm, params, method='Powell', args=(data, n_var))\n",
    "\n",
    "    # extract fit result\n",
    "    M_fit = result.x.reshape(n_var, n_var)\n",
    "\n",
    "    return M_fit\n",
    "\n",
    "M_fit = fit_var(fourier_residuals)"
   ]
  },
  {
   "cell_type": "code",
   "execution_count": null,
   "metadata": {},
   "outputs": [],
   "source": [
    "def F(t, k_array, coefs_matrix):\n",
    "    \n",
    "    N = len(coefs_matrix[0, :])\n",
    "    data = np.zeros(len(k_array))\n",
    "\n",
    "    i = 0\n",
    "    for k_list, coefs in zip(k_array, coefs_matrix):\n",
    "        for k in k_list:\n",
    "            A = np.abs(coefs[k])\n",
    "            phase = np.angle(coefs[k])\n",
    "            data[i] += A * np.cos(phase + 2 * np.pi * k * t / N)\n",
    "        i += 1\n",
    "\n",
    "    return data\n",
    "\n",
    "def weather_var(x, M, t, k_array, coefs_matrix, std):\n",
    "    return F(t, k_array, coefs_matrix) + M @ (x - F(t-1, k_array, coefs_matrix)) + np.random.normal(0, std)"
   ]
  },
  {
   "cell_type": "code",
   "execution_count": null,
   "metadata": {},
   "outputs": [],
   "source": [
    "F_array = []\n",
    "for t in t_data:\n",
    "    F_array.append(F(t, k_filtered_array, coefs_matrix))\n",
    "F_array = np.array(F_array).T\n",
    "\n",
    "residuals = data_test[:, 1:] - (F_array[:, 1:] + M_fit @ (data_test[:, :-1] - F_array[:, :-1]))\n",
    "std = np.std(residuals, axis=1)"
   ]
  },
  {
   "cell_type": "code",
   "execution_count": null,
   "metadata": {},
   "outputs": [],
   "source": [
    "M_fit = fit_var(fourier_residuals)\n",
    "prediction_range = 20\n",
    "\n",
    "t_prediction = np.arange(t_data[-1], t_data[-1] + prediction_range)\n",
    "\n",
    "prediction_list = []\n",
    "n_predictions = 1000\n",
    "for j in range(n_predictions):\n",
    "    prediction = [data_test[:, -1]]\n",
    "    for t in t_prediction[1:]:\n",
    "        prediction.append(weather_var(prediction[-1], M_fit, t, k_filtered_array, coefs_matrix, std))\n",
    "    prediction = np.array(prediction).T\n",
    "    prediction_list.append(prediction)\n",
    "\n",
    "prediction_matrix = np.array(prediction_list)\n",
    "\n",
    "lower = np.percentile(prediction_matrix, 2.5, axis=0)\n",
    "mean = np.mean(prediction_matrix, axis=0)\n",
    "upper = np.percentile(prediction_matrix, 97.5, axis=0)"
   ]
  },
  {
   "cell_type": "code",
   "execution_count": null,
   "metadata": {},
   "outputs": [],
   "source": [
    "F_prediction = []\n",
    "for t in t_prediction:\n",
    "    F_prediction.append(F(t, k_filtered_array, coefs_matrix))\n",
    "F_prediction = np.array(F_prediction).T\n",
    "\n",
    "F_prediction"
   ]
  },
  {
   "cell_type": "code",
   "execution_count": null,
   "metadata": {},
   "outputs": [],
   "source": [
    "# plot for each variable\n",
    "for i, variable_name in enumerate(variables):\n",
    "    fig, ax = plt.subplots()\n",
    "    for j in range(len(prediction_list)):\n",
    "        ax.errorbar(t_prediction, prediction_matrix[j, i, :], color='tab:blue', alpha=0.1)\n",
    "\n",
    "    ax.errorbar(t_prediction[-1], prediction_matrix[0, i, 0], color='tab:blue', label=f'{n_predictions} predictions')\n",
    "    ax.errorbar(t_prediction, F_prediction[i, :], label='Fourier', color='tab:orange')\n",
    "    ax.errorbar(t_prediction, lower[i, :], color='black', fmt='--', label='95% CI')\n",
    "    ax.errorbar(t_prediction, upper[i, :], color='black', fmt='--')\n",
    "    ax.errorbar(t_prediction, mean[i, :], color='black', fmt='-', label='prediction mean')\n",
    "    ax.errorbar(df_bilt['days'][t_prediction[0]:t_prediction[-1]], df_bilt[variable_name][t_prediction[0]:t_prediction[-1]], label='observed', color='tab:red', fmt='o')\n",
    "    ax.set(xlabel='days', ylabel=variable_name)\n",
    "    ax.legend(loc=1)"
   ]
  }
 ],
 "metadata": {
  "kernelspec": {
   "display_name": "SP",
   "language": "python",
   "name": "python3"
  },
  "language_info": {
   "codemirror_mode": {
    "name": "ipython",
    "version": 3
   },
   "file_extension": ".py",
   "mimetype": "text/x-python",
   "name": "python",
   "nbconvert_exporter": "python",
   "pygments_lexer": "ipython3",
   "version": "3.13.0"
  }
 },
 "nbformat": 4,
 "nbformat_minor": 2
}
