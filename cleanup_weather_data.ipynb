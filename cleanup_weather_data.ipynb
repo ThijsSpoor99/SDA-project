{
 "cells": [
  {
   "cell_type": "code",
   "execution_count": null,
   "metadata": {},
   "outputs": [],
   "source": [
    "import pandas as pd\n",
    "import datetime"
   ]
  },
  {
   "cell_type": "code",
   "execution_count": null,
   "metadata": {},
   "outputs": [],
   "source": [
    "# import full dataset\n",
    "df_main = pd.read_csv('Data/weather_prediction_dataset.csv')\n",
    "column_names = list(df_main.columns)\n",
    "\n",
    "# add cumulative days for easier analysis\n",
    "df_main.rename(columns={'DATE': 'date'}, inplace=True)\n",
    "df_main['date'] = pd.to_datetime(df_main['date'], format=\"%Y%m%d\")\n",
    "df_main['days'] = (df_main['date'] - df_main['date'].min()).dt.days + 1\n",
    "df_main"
   ]
  },
  {
   "cell_type": "code",
   "execution_count": null,
   "metadata": {},
   "outputs": [],
   "source": [
    "city_names = ['BASEL', 'BUDAPEST', 'DE_BILT', 'DRESDEN', 'DUSSELDORF', 'HEATHROW', 'KASSEL', 'LJUBLJANA', 'MAASTRICHT', 'MALMO', 'MONTELIMAR', 'MUENCHEN', 'OSLO', 'PERPIGNAN', 'ROMA', 'TOURS', 'SONNBLICK', 'STOCKHOLM']\n",
    "\n",
    "# create dictionary with all parameters per city\n",
    "city_parameters_dict = {}\n",
    "for city in city_names:\n",
    "    city_parameters_dict[city] = []\n",
    "    for column in column_names:\n",
    "        if city in column:\n",
    "            city_parameters_dict[city].append(column)\n",
    "\n",
    "city_parameters_dict"
   ]
  },
  {
   "cell_type": "code",
   "execution_count": null,
   "metadata": {},
   "outputs": [],
   "source": [
    "# create dataframe for each city\n",
    "# clean up column names\n",
    "for city in city_names:\n",
    "    columns_to_add = ['date'] + ['days'] + city_parameters_dict[city]\n",
    "    df_temp = df_main[columns_to_add].copy()\n",
    "    df_temp.columns = df_temp.columns.str.replace(f'{city}_', '', regex=False)\n",
    "    df_temp['city'] = f'{city}'\n",
    "    df_temp['year'] = df_temp['date'].dt.year\n",
    "\n",
    "    city = city.lower()\n",
    "    df_temp.to_csv(f'Data/{city}_weather.csv', index=False)\n",
    "\n",
    "# print example df of last city\n",
    "df_temp"
   ]
  }
 ],
 "metadata": {
  "kernelspec": {
   "display_name": "SP",
   "language": "python",
   "name": "python3"
  },
  "language_info": {
   "codemirror_mode": {
    "name": "ipython",
    "version": 3
   },
   "file_extension": ".py",
   "mimetype": "text/x-python",
   "name": "python",
   "nbconvert_exporter": "python",
   "pygments_lexer": "ipython3",
   "version": "3.13.0"
  }
 },
 "nbformat": 4,
 "nbformat_minor": 2
}
