{
 "cells": [
  {
   "cell_type": "code",
   "execution_count": null,
   "metadata": {},
   "outputs": [],
   "source": [
    "import numpy as np\n",
    "import pandas as pd\n",
    "import matplotlib.pyplot as plt\n",
    "import scipy"
   ]
  },
  {
   "cell_type": "code",
   "execution_count": null,
   "metadata": {},
   "outputs": [],
   "source": [
    "df_bilt = pd.read_csv('Data/de_bilt_weather.csv')\n",
    "df_bilt2000 = df_bilt.loc[df_bilt['year'] == 2000].copy()\n",
    "df_bilt2000['days'] = df_bilt['days'] - df_bilt['days'].min() + 1\n",
    "\n",
    "variables = ['cloud_cover', 'wind_speed', 'wind_gust', 'humidity',          # george\n",
    "            'pressure', 'global_radiation', 'precipitation', 'sunshine',    # skipper\n",
    "            'temp_mean', 'temp_min', 'temp_max']                            # thijs\n",
    "\n",
    "n_var = len(variables)\n",
    "\n",
    "df_bilt"
   ]
  },
  {
   "cell_type": "code",
   "execution_count": null,
   "metadata": {},
   "outputs": [],
   "source": [
    "# input variables\n",
    "t_data = np.arange(31)\n",
    "prediction_range = 20"
   ]
  },
  {
   "cell_type": "code",
   "execution_count": null,
   "metadata": {},
   "outputs": [],
   "source": [
    "def var_initial_norm(params, x, y, n_var):\n",
    "    c = params[:n_var]\n",
    "    matrix = params[n_var:].reshape(n_var, n_var)\n",
    "    prediction = c[:, None] + matrix @ x\n",
    "    return np.linalg.norm(y - prediction)\n",
    "\n",
    "# reshape data into 2D array [var, t]\n",
    "data = []\n",
    "for variable_name in variables:\n",
    "    data.append(df_bilt[variable_name][t_data])\n",
    "data = np.vstack(data)\n",
    "\n",
    "x_data = data[:, :-1]\n",
    "y_data = data[:, 1:]\n",
    "\n",
    "# quess logical values to help fit\n",
    "c_quess = np.zeros(n_var)\n",
    "M_quess = np.zeros((n_var, n_var))\n",
    "np.fill_diagonal(M_quess, 1)\n",
    "\n",
    "# convert to 1D array \n",
    "# scipy.optimize.minimize only accepts list-like as params\n",
    "params = np.hstack([c_quess, M_quess.flatten()])\n",
    "\n",
    "# let scipy perform his magic\n",
    "# Powell is slower, but appears to perform better than BFGS\n",
    "result = scipy.optimize.minimize(var_initial_norm, params, method='Powell', args=(x_data, y_data, n_var))\n",
    "\n",
    "# extract fit result\n",
    "c1 = result.x[:n_var]\n",
    "M1 = result.x[n_var:].reshape(n_var, n_var)\n",
    "\n",
    "# calculate residuals and std of error (assuming normality)\n",
    "residuals = y_data - (c1[:, None] + M1 @ x_data)\n",
    "std1 = np.std(residuals, axis=1)"
   ]
  },
  {
   "cell_type": "code",
   "execution_count": null,
   "metadata": {},
   "outputs": [],
   "source": [
    "def weather_var(x, c, M, std):\n",
    "    return c + M @ x + np.random.normal(0, std)\n",
    "\n",
    "# +1 as days starts at 1 and index at 0\n",
    "t_prediction = np.arange(t_data[-1] + 1, t_data[-1] + prediction_range + 1)\n",
    "\n",
    "prediction_list = []\n",
    "n_predictions = 1000\n",
    "for j in range(n_predictions):\n",
    "    prediction = [data[:, -1]]\n",
    "    for _ in range(1, len(t_prediction)):\n",
    "        prediction.append(weather_var(prediction[-1], c1, M1, std1))\n",
    "    prediction = np.array(prediction).T\n",
    "    prediction_list.append(prediction)\n",
    "\n",
    "prediction_array = np.array(prediction_list)\n",
    "\n",
    "# plot for each variable\n",
    "for i, variable_name in enumerate(variables):\n",
    "    fig, ax = plt.subplots()\n",
    "    for j in range(len(prediction_list)):\n",
    "        ax.errorbar(t_prediction, prediction_array[j, i, :], color='tab:blue', alpha=0.1)\n",
    "\n",
    "    ax.errorbar(1, 1, color='tab:blue', label=f'{n_predictions} predictions')\n",
    "    ax.errorbar(df_bilt['days'][:t_prediction[-1]], df_bilt[variable_name][:t_prediction[-1]], label='observed', color='black')\n",
    "    ax.set(xlabel='days', ylabel=variable_name)\n",
    "    ax.legend(loc=1)\n"
   ]
  }
 ],
 "metadata": {
  "kernelspec": {
   "display_name": "SP",
   "language": "python",
   "name": "python3"
  },
  "language_info": {
   "codemirror_mode": {
    "name": "ipython",
    "version": 3
   },
   "file_extension": ".py",
   "mimetype": "text/x-python",
   "name": "python",
   "nbconvert_exporter": "python",
   "pygments_lexer": "ipython3",
   "version": "3.13.0"
  }
 },
 "nbformat": 4,
 "nbformat_minor": 2
}
