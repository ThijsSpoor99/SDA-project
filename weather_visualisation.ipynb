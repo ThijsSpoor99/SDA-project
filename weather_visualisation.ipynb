{
 "cells": [
  {
   "cell_type": "code",
   "execution_count": null,
   "metadata": {},
   "outputs": [],
   "source": [
    "import pandas as pd\n",
    "import matplotlib.pyplot as plt"
   ]
  },
  {
   "cell_type": "code",
   "execution_count": null,
   "metadata": {},
   "outputs": [],
   "source": [
    "variables = ['cloud_cover', 'wind_speed', 'wind_gust', 'humidity',          # george\n",
    "            'pressure', 'global_radiation', 'precipitation', 'sunshine',    # skipper\n",
    "            'temp_mean', 'temp_min', 'temp_max']                            # thijs"
   ]
  },
  {
   "cell_type": "code",
   "execution_count": null,
   "metadata": {},
   "outputs": [],
   "source": [
    "df_bilt = pd.read_csv('Data/de_bilt_weather.csv')\n",
    "df_bilt['temp_mean'] = df_bilt['temp_mean'] + 273.15\n",
    "df_bilt2001 = df_bilt.loc[df_bilt['year'] == 2001].copy()\n",
    "df_bilt2002 = df_bilt.loc[df_bilt['year'] == 2002].copy()\n",
    "\n",
    "df_bilt2001['days'] = df_bilt2001['days'] - min(df_bilt2001['days']) + 1\n",
    "df_bilt2002['days'] = df_bilt2002['days'] - min(df_bilt2002['days']) + 1\n",
    "\n",
    "df_bilt2001"
   ]
  },
  {
   "cell_type": "code",
   "execution_count": null,
   "metadata": {},
   "outputs": [],
   "source": [
    "plt.errorbar(df_bilt2001['days'], df_bilt2001['temp_mean'], label='2001', color='tab:blue')\n",
    "plt.errorbar(df_bilt2002['days'], df_bilt2002['temp_mean'], label='2002', color='tab:orange')\n",
    "plt.xlabel('day')\n",
    "plt.ylabel('mean temp')\n",
    "plt.title('Daily mean temperature in de Bilt')\n",
    "plt.legend()\n",
    "plt.show()"
   ]
  },
  {
   "cell_type": "code",
   "execution_count": null,
   "metadata": {},
   "outputs": [],
   "source": [
    "for column in variables:\n",
    "    fig, ax = plt.subplots()\n",
    "    ax.errorbar(df_bilt[column][:-1], df_bilt[column][1:], fmt='o', alpha=0.01)\n",
    "    ax.set_title(f'{column}')"
   ]
  },
  {
   "cell_type": "code",
   "execution_count": null,
   "metadata": {},
   "outputs": [],
   "source": [
    "from scipy.stats import pearsonr\n",
    "for column in variables:\n",
    "    print(f'{column}: {pearsonr(df_bilt[column][:-1], df_bilt[column][1:])}')"
   ]
  }
 ],
 "metadata": {
  "kernelspec": {
   "display_name": "SP",
   "language": "python",
   "name": "python3"
  },
  "language_info": {
   "codemirror_mode": {
    "name": "ipython",
    "version": 3
   },
   "file_extension": ".py",
   "mimetype": "text/x-python",
   "name": "python",
   "nbconvert_exporter": "python",
   "pygments_lexer": "ipython3",
   "version": "3.13.0"
  }
 },
 "nbformat": 4,
 "nbformat_minor": 2
}
