{
 "cells": [
  {
   "cell_type": "markdown",
   "metadata": {},
   "source": [
    "This code was only used for the fourier explanation part of the presentation"
   ]
  },
  {
   "cell_type": "code",
   "execution_count": null,
   "metadata": {},
   "outputs": [],
   "source": [
    "import numpy as np\n",
    "import pandas as pd\n",
    "import matplotlib.pyplot as plt\n",
    "import scipy"
   ]
  },
  {
   "cell_type": "code",
   "execution_count": null,
   "metadata": {},
   "outputs": [],
   "source": [
    "df_bilt = pd.read_csv('Data/de_bilt_weather.csv')\n",
    "df_bilt2001 = df_bilt.loc[df_bilt['year'] == 2001]"
   ]
  },
  {
   "cell_type": "code",
   "execution_count": null,
   "metadata": {},
   "outputs": [],
   "source": [
    "variables = ['cloud_cover', 'wind_speed', 'wind_gust', 'humidity',   \n",
    "            'pressure', 'global_radiation', 'precipitation', 'sunshine',\n",
    "            'temp_mean', 'temp_min', 'temp_max'] \n",
    "\n",
    "n_var = len(variables)\n",
    "n_data = 365\n",
    "\n",
    "t_array = np.arange(n_data)"
   ]
  },
  {
   "cell_type": "code",
   "execution_count": null,
   "metadata": {},
   "outputs": [],
   "source": [
    "def DFT(data):\n",
    "    N = len(data)\n",
    "    \n",
    "    k_array = np.arange(N)\n",
    "    t_array = np.arange(N)\n",
    "\n",
    "    exponentials =  np.exp(-2j * np.pi * np.outer(k_array, t_array) / N)\n",
    "    coefs = exponentials @ data\n",
    "    \n",
    "    return k_array, coefs / N\n",
    "\n",
    "def reconstruct(t_array, k_array, coefs):\n",
    "    N = len(coefs)\n",
    "    data = np.zeros(len(t_array), dtype=object)\n",
    "\n",
    "    for k in k_array:\n",
    "        A = np.abs(coefs[k])\n",
    "        phase = np.angle(coefs[k])\n",
    "        data += A * np.cos(phase + 2 * np.pi * k * t_array / N)\n",
    "\n",
    "    return data"
   ]
  },
  {
   "cell_type": "code",
   "execution_count": null,
   "metadata": {},
   "outputs": [],
   "source": [
    "plt.plot(t_array, df_bilt2001['temp_mean'])\n",
    "plt.xlim(-10, 400)\n",
    "plt.ylim(-5, 30)\n",
    "plt.xlabel('t')\n",
    "plt.ylabel(r'$x_t$')\n",
    "plt.title('Mean temperature 2009')\n",
    "plt.savefig('Figures/fourier1.png', dpi=600)"
   ]
  },
  {
   "cell_type": "code",
   "execution_count": null,
   "metadata": {},
   "outputs": [],
   "source": [
    "data = np.array(df_bilt2001['temp_mean'])                \n",
    "k, coefs = DFT(data)\n",
    "\n",
    "fig, ax = plt.subplots()\n",
    "ax.plot(range(n_data), np.abs(coefs))\n",
    "ax.set_yscale('log')\n",
    "ax.set(ylim=(10**-3, 100), xlim=(-50, 400), ylabel=r'$|X_k|$', xlabel='k')\n",
    "ax.set_title('Mean temperature 2009')\n",
    "plt.savefig('Figures/fourier2.png', dpi=600)"
   ]
  },
  {
   "cell_type": "code",
   "execution_count": null,
   "metadata": {},
   "outputs": [],
   "source": [
    "plt.errorbar(t_array, reconstruct(t_array, [0, 1, 364], coefs), color='tab:red', label='yearly fourier')\n",
    "plt.errorbar(t_array, reconstruct(t_array, k, coefs), color='black', fmt='-', label='full fourier')\n",
    "plt.errorbar(t_array, df_bilt2001['temp_mean'], color='tab:blue', fmt='o', markersize=3, label='observed')\n",
    "plt.xlim(-10, 400)\n",
    "plt.ylim(-5, 30)\n",
    "plt.xlabel('t')\n",
    "plt.ylabel(r'$x_t$')\n",
    "plt.title('Mean temperature 2009')\n",
    "plt.legend()\n",
    "plt.savefig('Figures/fourier3.png', dpi=600)"
   ]
  },
  {
   "cell_type": "code",
   "execution_count": null,
   "metadata": {},
   "outputs": [],
   "source": [
    "coefs_relative = np.abs(coefs) / np.sum(np.abs(coefs))\n",
    "mask = coefs_relative > 0.005\n",
    "\n",
    "k_filtered = k[mask].copy()"
   ]
  },
  {
   "cell_type": "code",
   "execution_count": null,
   "metadata": {},
   "outputs": [],
   "source": [
    "plt.errorbar(t_array, reconstruct(t_array, [0, 1, 364], coefs), color='tab:red', label='yearly fourier')\n",
    "plt.errorbar(t_array, reconstruct(t_array, k_filtered, coefs), color='black', fmt='-', label='partial fourier (>0.5%)')\n",
    "plt.errorbar(t_array, df_bilt2001['temp_mean'], color='tab:blue', fmt='o', markersize=3, label='observed')\n",
    "plt.xlim(-10, 400)\n",
    "plt.ylim(-5, 30)\n",
    "plt.xlabel('t')\n",
    "plt.ylabel(r'$x_t$')\n",
    "plt.title('Mean temperature 2009')\n",
    "plt.legend()\n",
    "plt.savefig('Figures/fourier4.png', dpi=600)"
   ]
  }
 ],
 "metadata": {
  "kernelspec": {
   "display_name": "SP",
   "language": "python",
   "name": "python3"
  },
  "language_info": {
   "codemirror_mode": {
    "name": "ipython",
    "version": 3
   },
   "file_extension": ".py",
   "mimetype": "text/x-python",
   "name": "python",
   "nbconvert_exporter": "python",
   "pygments_lexer": "ipython3",
   "version": "3.13.0"
  }
 },
 "nbformat": 4,
 "nbformat_minor": 2
}
