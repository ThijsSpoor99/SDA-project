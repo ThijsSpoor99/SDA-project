{
 "cells": [
  {
   "cell_type": "code",
   "execution_count": null,
   "metadata": {},
   "outputs": [],
   "source": [
    "import numpy as np\n",
    "import pandas as pd\n",
    "import matplotlib.pyplot as plt\n",
    "import scipy"
   ]
  },
  {
   "cell_type": "code",
   "execution_count": null,
   "metadata": {},
   "outputs": [],
   "source": [
    "df_bilt = pd.read_csv('Data/de_bilt_weather.csv')\n",
    "\n",
    "variables = ['precipitation', 'wind_speed', 'wind_gust',          # george\n",
    "            'pressure', 'cloud_cover', 'sunshine', 'humidity', 'global_radiation',    # skipper\n",
    "            'temp_min', 'temp_mean', 'temp_max']                            # thijs\n",
    "\n",
    "variable_names = np.array(['precipitation', 'wind speed', 'wind gust',\n",
    "                  'pressure', 'cloud_cover', 'sunshine', 'humidity', 'global radiation',\n",
    "                  'temperature min', 'temperature mean', 'temperature max'])\n",
    "\n",
    "n_var = len(variables)"
   ]
  },
  {
   "cell_type": "code",
   "execution_count": null,
   "metadata": {},
   "outputs": [],
   "source": [
    "# reshape data\n",
    "data = []\n",
    "for variable_name in variables:\n",
    "    data.append(df_bilt[variable_name])\n",
    "data = np.vstack(data)"
   ]
  },
  {
   "cell_type": "code",
   "execution_count": null,
   "metadata": {},
   "outputs": [],
   "source": [
    "lag = 1\n",
    "correlation_matrix = np.zeros((n_var, n_var))\n",
    "for i in range(n_var):\n",
    "    for j in range(n_var):\n",
    "        correlation_matrix[i, j], _ = scipy.stats.pearsonr(data[i, :-lag], data[j, lag:])\n",
    "        \n",
    "correlation_matrix = np.abs(correlation_matrix)"
   ]
  },
  {
   "cell_type": "code",
   "execution_count": null,
   "metadata": {},
   "outputs": [],
   "source": [
    "plt.imshow(correlation_matrix, vmin = 0, vmax = 1, cmap='inferno')\n",
    "plt.xticks(range(len(variable_names)), variable_names + ' (t-1)', rotation=90)\n",
    "plt.yticks(range(len(variable_names)), variable_names + ' (t)')\n",
    "plt.colorbar(label='absolute Pearson r correlation')\n",
    "plt.tight_layout()\n",
    "plt.savefig('Figures/var_correlation.png', dpi=1000)"
   ]
  },
  {
   "cell_type": "code",
   "execution_count": null,
   "metadata": {},
   "outputs": [],
   "source": [
    "selection = ['sunshine', 'humidity', 'global_radiation', \n",
    "              'temp_mean', 'temp_min', 'temp_max'] \n",
    "\n",
    "selection_names = np.array(['humidity', 'global radiation', \n",
    "             'sunshine', 'mean temp', 'min temp', 'max temp']) \n",
    "\n",
    "# reshape data\n",
    "data = []\n",
    "for variable_name in selection:\n",
    "    data.append(df_bilt[variable_name])\n",
    "data = np.vstack(data)\n",
    "\n",
    "lag = 1\n",
    "correlation_matrix = np.zeros((len(selection), len(selection)))\n",
    "for i in range(len(selection)):\n",
    "    for j in range(len(selection)):\n",
    "        correlation_matrix[i, j], _ = scipy.stats.pearsonr(data[i, lag:], data[j, :-lag])\n",
    "        \n",
    "correlation_matrix = np.abs(correlation_matrix)"
   ]
  },
  {
   "cell_type": "code",
   "execution_count": null,
   "metadata": {},
   "outputs": [],
   "source": [
    "plt.imshow(correlation_matrix, vmin = 0, vmax = 1, cmap='inferno')\n",
    "plt.xticks(range(len(selection)), selection_names + ' (t-1)', rotation=90)\n",
    "plt.yticks(range(len(selection)), selection_names + ' (t)')\n",
    "plt.colorbar()\n",
    "plt.savefig('Figures/reduced_var_correlation.png', dpi=600)"
   ]
  },
  {
   "cell_type": "code",
   "execution_count": null,
   "metadata": {},
   "outputs": [],
   "source": [
    "plt.plot(df_bilt['global_radiation'][:-1], df_bilt['temp_mean'][1:])"
   ]
  }
 ],
 "metadata": {
  "kernelspec": {
   "display_name": "SP",
   "language": "python",
   "name": "python3"
  },
  "language_info": {
   "codemirror_mode": {
    "name": "ipython",
    "version": 3
   },
   "file_extension": ".py",
   "mimetype": "text/x-python",
   "name": "python",
   "nbconvert_exporter": "python",
   "pygments_lexer": "ipython3",
   "version": "3.13.0"
  }
 },
 "nbformat": 4,
 "nbformat_minor": 2
}
