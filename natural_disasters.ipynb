{
 "cells": [
  {
   "cell_type": "code",
   "execution_count": null,
   "metadata": {},
   "outputs": [],
   "source": [
    "import pandas as pd\n",
    "import numpy as np\n",
    "import matplotlib.pyplot as plt"
   ]
  },
  {
   "cell_type": "code",
   "execution_count": null,
   "metadata": {},
   "outputs": [],
   "source": [
    "# import natural disaster dataset\n",
    "# remove last year (incomplete data)\n",
    "df_main = pd.read_csv('Data/natural-disasters-by-type.csv')\n",
    "df_main = df_main.loc[df_main['Year'] != 2024]\n",
    "\n",
    "# add temperature column with global temperature dataset\n",
    "df_temperature = pd.read_csv('Data/temperature-anomaly.csv')\n",
    "year_list = df_temperature['Year']\n",
    "temperature_list = df_temperature['Global average temperature anomaly relative to 1961-1990']\n",
    "year_temperature_dict = dict(zip(year_list, temperature_list))\n",
    "df_main['Temperature'] = df_main['Year'].replace(year_temperature_dict)\n",
    "\n",
    "df_main['Entity'].unique()"
   ]
  },
  {
   "cell_type": "code",
   "execution_count": null,
   "metadata": {},
   "outputs": [],
   "source": [
    "df_earthquake = df_main.loc[df_main['Entity'] == 'Earthquake']\n",
    "df_flood = df_main.loc[df_main['Entity'] == 'Flood']\n",
    "df_volcano = df_main.loc[df_main['Entity'] == 'Volcanic activity']\n",
    "df_wildfire = df_main.loc[df_main['Entity'] == 'Wildfire']\n",
    "df_extreme_weather = df_main.loc[df_main['Entity'] == 'Extreme weather']\n",
    "df_drought = df_main.loc[df_main['Entity'] == 'Drought']"
   ]
  },
  {
   "cell_type": "code",
   "execution_count": null,
   "metadata": {},
   "outputs": [],
   "source": [
    "markersize = 3\n",
    "fig, ax = plt.subplots()\n",
    "\n",
    "ax.errorbar(df_flood['Year'], df_flood['Disasters'], fmt='o', markersize=markersize, label='flood')\n",
    "ax.errorbar(df_extreme_weather['Year'], df_extreme_weather['Disasters'], fmt='o', markersize=markersize, label='extreme weather')\n",
    "ax.errorbar(df_earthquake['Year'], df_earthquake['Disasters'], fmt='o', markersize=markersize, label='earthquake')\n",
    "ax.errorbar(df_drought['Year'], df_drought['Disasters'], fmt='o', markersize=markersize, label='drought')\n",
    "ax.errorbar(df_volcano['Year'], df_volcano['Disasters'], fmt='o', markersize=markersize, label='volcanic activity')\n",
    "ax.errorbar(df_wildfire['Year'], df_wildfire['Disasters'], fmt='o', markersize=markersize, label='wildfire')\n",
    "\n",
    "ax.set_xticks(range(1890, 2031, 10))\n",
    "ax.set_xticklabels(range(1890, 2031, 10), rotation=90)\n",
    "ax.set_xlabel('year')\n",
    "ax.set_ylabel('count')\n",
    "ax.legend(loc=2)\n",
    "fig.savefig('Figures/natural_disasters_per_year.png', dpi=600)"
   ]
  },
  {
   "cell_type": "code",
   "execution_count": null,
   "metadata": {},
   "outputs": [],
   "source": [
    "markersize = 3\n",
    "fig, ax = plt.subplots()\n",
    "\n",
    "ax.errorbar(df_flood['Year'], np.log(df_flood['Disasters']), fmt='o', markersize=markersize, label='flood')\n",
    "ax.errorbar(df_extreme_weather['Year'], np.log(df_extreme_weather['Disasters']), fmt='o', markersize=markersize, label='extreme weather')\n",
    "\n",
    "ax.set_xlim(1890, 2030)\n",
    "ax.set_xticks(range(1890, 2031, 10))\n",
    "ax.set_xticklabels(range(1890, 2031, 10), rotation=90)\n",
    "ax.set_xlabel('year')\n",
    "ax.set_ylabel('log(count)')\n",
    "ax.legend(loc=2)\n",
    "plt.show()"
   ]
  }
 ],
 "metadata": {
  "kernelspec": {
   "display_name": "SP",
   "language": "python",
   "name": "python3"
  },
  "language_info": {
   "codemirror_mode": {
    "name": "ipython",
    "version": 3
   },
   "file_extension": ".py",
   "mimetype": "text/x-python",
   "name": "python",
   "nbconvert_exporter": "python",
   "pygments_lexer": "ipython3",
   "version": "3.13.0"
  }
 },
 "nbformat": 4,
 "nbformat_minor": 2
}
