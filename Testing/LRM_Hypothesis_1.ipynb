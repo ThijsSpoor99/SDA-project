{
 "cells": [
  {
   "cell_type": "code",
   "execution_count": null,
   "id": "0",
   "metadata": {},
   "outputs": [],
   "source": [
    "import pandas as pd \n",
    "import numpy as np\n",
    "import scipy\n",
    "import matplotlib.pyplot as plt"
   ]
  },
  {
   "cell_type": "code",
   "execution_count": null,
   "id": "1",
   "metadata": {},
   "outputs": [],
   "source": [
    "variables = [\n",
    "    'cloud_cover', 'wind_speed', 'wind_gust', 'humidity',\n",
    "    'pressure', 'global_radiation', 'precipitation', 'sunshine', \n",
    "    'temp_mean', 'temp_min', 'temp_max'\n",
    "]\n",
    "\n",
    "# Choose a variable to run\n",
    "var_name = 'temp_max'\n",
    "\n",
    "df_bilt = pd.read_csv('Data/de_bilt_weather.csv')\n",
    "\n",
    "df_bilt['days'] = df_bilt['days'] - df_bilt['days'].min()\n",
    "\n",
    "train_range = 365\n",
    "test_range = 10\n",
    "\n",
    "def fit_lrm(x, alfa, beta):\n",
    "    return alfa + beta * x\n",
    "\n",
    "def lrm(x, alfa, beta, sigma):\n",
    "    return alfa + beta * x + np.random.normal(0, sigma)\n",
    "\n",
    "#Rows from index 0 up to index 364 for training\n",
    "x_train = df_bilt[var_name][:train_range]\n",
    "#Rows from index 1 up to index 365, shifting by one day.\n",
    "y_train = df_bilt[var_name][1:train_range+1]     \n",
    "\n",
    "params, _ = scipy.optimize.curve_fit(fit_lrm, x_train, y_train)\n",
    "alfa, beta = params\n",
    "\n",
    "residuals = y_train - fit_lrm(x_train, alfa, beta)\n",
    "std = np.sqrt(np.sum(residuals**2) / (len(x_train) - 2))\n",
    "\n",
    "#starting point for forecasting future values.\n",
    "start_value = df_bilt[var_name][train_range - 1]  # index 364\n",
    "\n",
    "all_trajectories = []\n",
    "for _ in range(1000):\n",
    "    trajectory = []\n",
    "    current_value = start_value\n",
    "    # Predict for test_range days ahead: day 365 to 374\n",
    "    for _ in range(test_range):\n",
    "        next_value = lrm(current_value, alfa, beta, std)\n",
    "        trajectory.append(next_value)\n",
    "        current_value = next_value\n",
    "    all_trajectories.append(trajectory)\n",
    "\n",
    "mean_trajectory = np.mean(all_trajectories, axis=0)\n",
    "observed_test = df_bilt[var_name][train_range:train_range+test_range].values\n",
    "obs = observed_test\n",
    "pred = mean_trajectory\n",
    "\n",
    "mae = np.mean(np.abs(obs - pred))\n",
    "mse = np.mean((obs - pred)**2)\n",
    "rmse = np.sqrt(mse)"
   ]
  },
  {
   "cell_type": "code",
   "execution_count": null,
   "id": "2",
   "metadata": {},
   "outputs": [],
   "source": [
    "#Get the test days (same indexing as VAR model)\n",
    "days_test = df_bilt['days'].iloc[train_range:train_range+test_range].values\n",
    "\n",
    "#Create a df for the LRM predictions\n",
    "df_lrm = pd.DataFrame({\n",
    "    \"days\": days_test,\n",
    "    f\"actual_{var_name}\": observed_test,\n",
    "    f\"lrm_forecast_{var_name}\": mean_trajectory\n",
    "})\n",
    "\n",
    "#Save LRM predictions to CSV file\n",
    "df_lrm.to_csv(\"Testing/LRM_Data\", index=False)"
   ]
  },
  {
   "cell_type": "code",
   "execution_count": null,
   "id": "3",
   "metadata": {},
   "outputs": [],
   "source": [
    "#Predicted values of training set\n",
    "y_pred_train = fit_lrm(x_train, alfa, beta)\n",
    "\n",
    "#Finding total sum of squares and residual sum of squares\n",
    "ss_total = np.sum((y_train - np.mean(y_train))**2)\n",
    "ss_res = np.sum((y_train - y_pred_train)**2)\n",
    "\n",
    "#Calculate R^2\n",
    "r2 = 1 - (ss_res / ss_total)"
   ]
  }
 ],
 "metadata": {
  "kernelspec": {
   "display_name": "Python 3 (ipykernel)",
   "language": "python",
   "name": "python3"
  },
  "language_info": {
   "codemirror_mode": {
    "name": "ipython",
    "version": 3
   },
   "file_extension": ".py",
   "mimetype": "text/x-python",
   "name": "python",
   "nbconvert_exporter": "python",
   "pygments_lexer": "ipython3",
   "version": "3.12.7"
  }
 },
 "nbformat": 4,
 "nbformat_minor": 5
}
