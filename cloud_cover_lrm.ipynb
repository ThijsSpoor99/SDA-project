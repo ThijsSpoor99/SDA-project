{
 "cells": [
  {
   "cell_type": "code",
   "execution_count": 2,
   "id": "1ce48a53-018d-460d-ac69-3d45c132ae0e",
   "metadata": {},
   "outputs": [],
   "source": [
    "import pandas as pd\n",
    "import numpy as np\n",
    "import scipy\n",
    "import matplotlib.pyplot as plt\n",
    "from scipy.stats import chi2"
   ]
  },
  {
   "cell_type": "code",
   "execution_count": 3,
   "id": "447b5fb0-3122-4bda-8200-c39e59ee662a",
   "metadata": {},
   "outputs": [],
   "source": [
    "df_bilt = pd.read_csv('/Users/georgepetropoulos/Desktop/de_bilt_weather.csv')"
   ]
  },
  {
   "cell_type": "code",
   "execution_count": 4,
   "id": "19519072-5cea-415b-afc7-37d9237d073d",
   "metadata": {},
   "outputs": [
    {
     "name": "stdout",
     "output_type": "stream",
     "text": [
      "                  sunshine  humidity  precipitation  wind_speed  wind_gust  \\\n",
      "sunshine          1.000000 -0.721761      -0.291868   -0.209073  -0.161435   \n",
      "humidity         -0.721761  1.000000       0.278561   -0.070804  -0.059269   \n",
      "precipitation    -0.291868  0.278561       1.000000    0.280795   0.399627   \n",
      "wind_speed       -0.209073 -0.070804       0.280795    1.000000   0.859245   \n",
      "wind_gust        -0.161435 -0.059269       0.399627    0.859245   1.000000   \n",
      "cloud_cover      -0.824855  0.559006       0.328710    0.230350   0.228637   \n",
      "temp_mean         0.363065 -0.374882       0.039337   -0.111357  -0.007917   \n",
      "pressure          0.257221 -0.134714      -0.388966   -0.391760  -0.432313   \n",
      "global_radiation  0.858166 -0.725564      -0.179438   -0.237521  -0.132919   \n",
      "\n",
      "                  cloud_cover  temp_mean  pressure  global_radiation  \n",
      "sunshine            -0.824855   0.363065  0.257221          0.858166  \n",
      "humidity             0.559006  -0.374882 -0.134714         -0.725564  \n",
      "precipitation        0.328710   0.039337 -0.388966         -0.179438  \n",
      "wind_speed           0.230350  -0.111357 -0.391760         -0.237521  \n",
      "wind_gust            0.228637  -0.007917 -0.432313         -0.132919  \n",
      "cloud_cover          1.000000  -0.147705 -0.326877         -0.575331  \n",
      "temp_mean           -0.147705   1.000000 -0.078647          0.644915  \n",
      "pressure            -0.326877  -0.078647  1.000000          0.133676  \n",
      "global_radiation    -0.575331   0.644915  0.133676          1.000000  \n"
     ]
    }
   ],
   "source": [
    "correlations = df_bilt[['sunshine', 'humidity', 'precipitation', 'wind_speed', 'wind_gust', 'cloud_cover', 'temp_mean','pressure', 'global_radiation']].corr()\n",
    "print(correlations)"
   ]
  },
  {
   "cell_type": "code",
   "execution_count": 5,
   "id": "c8bcc30d-38ac-4694-a92b-0c8b6eb9ec75",
   "metadata": {},
   "outputs": [],
   "source": [
    "# define fit function without error\n",
    "def fit_lrm(x, alfa, beta):\n",
    "    return alfa + beta*x"
   ]
  },
  {
   "cell_type": "code",
   "execution_count": 6,
   "id": "4881267c-5a99-49cc-ae06-208288bb5be8",
   "metadata": {},
   "outputs": [],
   "source": [
    "#wind_speed\n",
    "\n",
    "x_ws = df_bilt['wind_speed'][:-1].reset_index(drop = True)\n",
    "y_ws = df_bilt['wind_speed'][1:].reset_index(drop = True)\n",
    "\n",
    "params_ws, _ = scipy.optimize.curve_fit(fit_lrm, x_ws, y_ws)\n",
    "alfa_ws, beta_ws = params_ws\n",
    "\n",
    "residuals_ws = y_ws - fit_lrm(x_ws, alfa_ws, beta_ws)\n",
    "sigma_ws = np.sqrt(np.sum(residuals_ws**2) / (len(x_ws) - 2)) "
   ]
  },
  {
   "cell_type": "code",
   "execution_count": 7,
   "id": "d95077a2-c8bf-4c61-b151-ea8ef756e482",
   "metadata": {},
   "outputs": [],
   "source": [
    "#wind_gust\n",
    "\n",
    "x_wg = df_bilt['wind_gust'][:-1].reset_index(drop = True)\n",
    "y_wg = df_bilt['wind_gust'][1:].reset_index(drop = True)\n",
    "\n",
    "params_wg, _ = scipy.optimize.curve_fit(fit_lrm, x_wg, y_wg)\n",
    "alfa_wg, beta_wg = params_wg\n",
    "\n",
    "residuals_wg = y_wg - fit_lrm(x_wg, alfa_wg, beta_wg)\n",
    "sigma_wg = np.sqrt(np.sum(residuals_wg**2) / (len(x_wg) - 2))  "
   ]
  },
  {
   "cell_type": "code",
   "execution_count": 8,
   "id": "50bd9059-11d8-4fc2-9e7a-d7ee30c152c0",
   "metadata": {},
   "outputs": [],
   "source": [
    "#humidity\n",
    "\n",
    "x_hd = df_bilt['humidity'][:-1].reset_index(drop = True)\n",
    "y_hd = df_bilt['humidity'][1:].reset_index(drop = True)\n",
    "\n",
    "params_hd, _ = scipy.optimize.curve_fit(fit_lrm, x_hd, y_hd)\n",
    "alfa_hd, beta_hd = params_hd\n",
    "\n",
    "residuals_hd = y_hd - fit_lrm(x_hd, alfa_hd, beta_hd)\n",
    "sigma_hd = np.sqrt(np.sum(residuals_hd**2) / (len(x_hd) - 2)) "
   ]
  },
  {
   "cell_type": "code",
   "execution_count": 42,
   "id": "e67680d1-03f9-449e-b998-df6c6f725e85",
   "metadata": {},
   "outputs": [],
   "source": [
    "#cloud cover\n",
    "#Ordinal but Numeric data (Okta Scale), Minimal fit improvements from Logit transform, and Polynomial additions\n",
    "#Consider the high correlation with sunshine?\n",
    "\n",
    "x_cc = df_bilt['cloud_cover'][:-1].reset_index(drop = True)\n",
    "y_cc = df_bilt['cloud_cover'][1:].reset_index(drop = True)\n",
    "\n",
    "params_cc, _ = scipy.optimize.curve_fit(fit_lrm, x_cc, y_cc)\n",
    "alfa_cc, beta_cc = params_cc\n",
    "\n",
    "residuals_cc = y_cc - fit_lrm(x_cc, alfa_cc, beta_cc)\n",
    "sigma_cc = np.sqrt(np.sum(residuals_cc**2) / (len(x_cc) - 2))  # -2 because 2 params (alfa, beta)"
   ]
  }
 ],
 "metadata": {
  "kernelspec": {
   "display_name": "Python 3 (ipykernel)",
   "language": "python",
   "name": "python3"
  },
  "language_info": {
   "codemirror_mode": {
    "name": "ipython",
    "version": 3
   },
   "file_extension": ".py",
   "mimetype": "text/x-python",
   "name": "python",
   "nbconvert_exporter": "python",
   "pygments_lexer": "ipython3",
   "version": "3.12.7"
  }
 },
 "nbformat": 4,
 "nbformat_minor": 5
}
