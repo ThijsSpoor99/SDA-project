{
 "cells": [
  {
   "cell_type": "code",
   "execution_count": null,
   "metadata": {},
   "outputs": [],
   "source": [
    "import numpy as np\n",
    "import pandas as pd\n",
    "import matplotlib.pyplot as plt\n",
    "import scipy"
   ]
  },
  {
   "cell_type": "code",
   "execution_count": null,
   "metadata": {},
   "outputs": [],
   "source": [
    "df_bilt = pd.read_csv('Data/de_bilt_weather.csv')\n",
    "\n",
    "df_bilt2000 = df_bilt.loc[df_bilt['year'] == 2000].copy()\n",
    "df_bilt2001 = df_bilt.loc[df_bilt['year'] == 2001].copy()\n",
    "df_bilt2002 = df_bilt.loc[df_bilt['year'] == 2002].copy()\n",
    "df_bilt2009 = df_bilt.loc[df_bilt['year'] == 2009].copy()"
   ]
  },
  {
   "cell_type": "code",
   "execution_count": null,
   "metadata": {},
   "outputs": [],
   "source": [
    "variables = ['cloud_cover', 'wind_speed', 'wind_gust', 'humidity',   \n",
    "            'pressure', 'global_radiation', 'precipitation', 'sunshine',\n",
    "            'temp_mean', 'temp_min', 'temp_max'] \n",
    "\n",
    "n_var = len(variables)"
   ]
  },
  {
   "cell_type": "code",
   "execution_count": null,
   "metadata": {},
   "outputs": [],
   "source": [
    "# do not include 2010 (no data)\n",
    "# do not include 2009 (test data)\n",
    "year_array = np.arange(2000, 2009)"
   ]
  },
  {
   "cell_type": "code",
   "execution_count": null,
   "metadata": {},
   "outputs": [],
   "source": [
    "# discrete fourier transform\n",
    "def DFT(data):\n",
    "    N = len(data)\n",
    "    \n",
    "    # create k and t from 0 to N-1\n",
    "    # assumes the data starts at t=0\n",
    "    k_array = np.arange(N)\n",
    "    t_array = np.arange(N)\n",
    "\n",
    "    # calculate exponentials with a matrix with |k><t|\n",
    "    # np.exp as we want element wise and not e^M\n",
    "    exponentials =  np.exp(-2j * np.pi * np.outer(k_array, t_array) / N)\n",
    "\n",
    "    # matrix multiplication works\n",
    "    # as the t-row is multiplied with the data-column\n",
    "    # thus giving the coef for each k\n",
    "    coefs = exponentials @ data\n",
    "    \n",
    "    # normalize coefs\n",
    "    return k_array, coefs / N\n",
    "\n",
    "# reconstructs the data as a sum of cosines\n",
    "# with A = |X_k| and phaseshift = arg(X_k)\n",
    "def reconstruct(t_array, k_array, coefs):\n",
    "    N = len(coefs)\n",
    "\n",
    "    # create 1D array with x(t)\n",
    "    data = np.zeros(len(t_array))\n",
    "\n",
    "    # for every k calculate the entire t_array\n",
    "    # += sums the vectors\n",
    "    # could probably be done with a matrix\n",
    "    for k in k_array:\n",
    "        A = np.abs(coefs[k])\n",
    "        phase = np.angle(coefs[k])\n",
    "        data += A * np.cos(phase + 2 * np.pi * k * t_array / N)\n",
    "\n",
    "    return data"
   ]
  },
  {
   "cell_type": "code",
   "execution_count": null,
   "metadata": {},
   "outputs": [],
   "source": [
    "coefs_list = []\n",
    "\n",
    "# Fourier each year\n",
    "# only 365 to avoid leap year issues\n",
    "n_data = 365\n",
    "for year in year_array:\n",
    "    df_selection = df_bilt.loc[df_bilt['year'] == year]\n",
    "    df_selection = df_selection[:n_data]\n",
    "\n",
    "    # Fourier each variable\n",
    "    coefs_matrix = []\n",
    "    for variable_name in variables:\n",
    "        data = np.array(df_selection[variable_name])                \n",
    "        \n",
    "        k, coefs = DFT(data)\n",
    "        coefs_matrix.append(coefs)\n",
    "    \n",
    "    # save coefs as [year, coef]\n",
    "    # with index being k\n",
    "    coefs_matrix = np.array(coefs_matrix)\n",
    "    coefs_list.append(coefs_matrix)"
   ]
  },
  {
   "cell_type": "code",
   "execution_count": null,
   "metadata": {},
   "outputs": [],
   "source": [
    "# average the fourier coefs from 2000-2008\n",
    "coefs_matrix_mean = np.mean(coefs_list, axis=0)\n",
    "\n",
    "for i, variable_name in enumerate(variables):\n",
    "    fig, ax = plt.subplots()\n",
    "    ax.plot(range(n_data), np.abs(coefs_matrix_mean[i, :]))\n",
    "    ax.set_yscale('log')\n",
    "    ax.set_title(variable_name)\n",
    "    ax.set_xlabel('t')\n",
    "    ax.set_ylabel(r'$X_t$')"
   ]
  },
  {
   "cell_type": "code",
   "execution_count": null,
   "metadata": {},
   "outputs": [],
   "source": [
    "# set threshold\n",
    "# freqs responsible for less than 0.5% are discarded\n",
    "threshold = 0.005\n",
    "k_array = []\n",
    "for i in range(n_var):\n",
    "    coefs_matrix = coefs_matrix_mean[i, :].copy()\n",
    "\n",
    "    # take relative coef\n",
    "    # how much did the coef matter compared to the total\n",
    "    coefs_abs = np.abs(coefs_matrix)\n",
    "    coefs_relative = coefs_abs / np.sum(coefs_abs)\n",
    "\n",
    "    k_filtered = k[coefs_relative > threshold]\n",
    "    k_array.append(k_filtered)\n",
    "\n",
    "# k is not matrix-like, thus dtype must be set\n",
    "k_array = np.array(k_array, dtype=object)"
   ]
  },
  {
   "cell_type": "code",
   "execution_count": null,
   "metadata": {},
   "outputs": [],
   "source": [
    "# create t for a 'full' year (365 days)\n",
    "t_array = np.arange(n_data)\n",
    "\n",
    "# restructure data for all years (including test year)\n",
    "# should be [year, var, t]\n",
    "data_list = []\n",
    "for year in list(year_array) + [2009]:\n",
    "\n",
    "    # separate data for year\n",
    "    df_selection = df_bilt.loc[df_bilt['year'] == year]\n",
    "    df_selection = df_selection[:n_data]\n",
    "\n",
    "    # reshape in to [var, t]\n",
    "    data_matrix = []\n",
    "    for variable_name in variables:\n",
    "        data = np.array(df_selection[variable_name])\n",
    "        data_matrix.append(data)\n",
    "    \n",
    "    # add to list to get [year, var, t]\n",
    "    data_matrix = np.array(data_matrix)  \n",
    "    data_list.append(data_matrix)\n",
    "\n",
    "# create fourier matrix with [var, t]\n",
    "# reconstruct is coded to accept coefs list with k as the index\n",
    "data_fourier_matrix = []\n",
    "for i in range(n_var):\n",
    "    data_fourier_matrix.append(reconstruct(t_array, k_array[i], coefs_matrix_mean[i, :]))\n",
    "data_fourier_matrix = np.array(data_fourier_matrix)"
   ]
  },
  {
   "cell_type": "code",
   "execution_count": null,
   "metadata": {},
   "outputs": [],
   "source": [
    "for i, variable_name in enumerate(variables):\n",
    "    prediction = reconstruct(t_array, k_array[i], coefs_matrix_mean[i, :])\n",
    "\n",
    "    fig, ax = plt.subplots()\n",
    "    ax.errorbar(t_array, prediction, label='prediction')\n",
    "    ax.errorbar(t_array, df_bilt2009[variable_name][:n_data], fmt='o', label='observed 2009')\n",
    "    ax.set_xlabel('t')\n",
    "    ax.set_ylabel(variable_name) "
   ]
  },
  {
   "cell_type": "code",
   "execution_count": null,
   "metadata": {},
   "outputs": [],
   "source": [
    "# calculate residuals of the fourier [var, t]\n",
    "fourier_residuals = data_list[:-1] - data_fourier_matrix\n",
    "big_fourier_residuals = np.hstack(fourier_residuals)"
   ]
  },
  {
   "cell_type": "code",
   "execution_count": null,
   "metadata": {},
   "outputs": [],
   "source": [
    "def var_initial_norm(params, data, n_var):\n",
    "    matrix = params.reshape(n_var, n_var)\n",
    "    prediction = matrix @ data[:, :-1]\n",
    "    return np.linalg.norm(data[:, 1:] - prediction)\n",
    "\n",
    "def fit_var(data):\n",
    "    # quess logical values to help fit\n",
    "    params = np.zeros((n_var, n_var)).flatten()\n",
    "        \n",
    "    # let scipy perform his magic\n",
    "    # Powell is slower, but appears to perform better than BFGS\n",
    "    result = scipy.optimize.minimize(var_initial_norm, params, method='Powell', args=(data, n_var))\n",
    "\n",
    "    # extract fit result\n",
    "    M_fit = result.x.reshape(n_var, n_var)\n",
    "\n",
    "    return M_fit\n",
    "\n",
    "M_fit = fit_var(big_fourier_residuals)"
   ]
  },
  {
   "cell_type": "code",
   "execution_count": null,
   "metadata": {},
   "outputs": [],
   "source": [
    "# return the fourier prediction vector for a single\n",
    "# quite slow\n",
    "def F(t, k_array, coefs_matrix):\n",
    "    \n",
    "    N = len(coefs_matrix[0, :])\n",
    "    data = np.zeros(len(k_array))\n",
    "\n",
    "    i = 0\n",
    "    for k_list, coefs in zip(k_array, coefs_matrix):\n",
    "        for k in k_list:\n",
    "            A = np.abs(coefs[k])\n",
    "            phase = np.angle(coefs[k])\n",
    "            data[i] += A * np.cos(phase + 2 * np.pi * k * t / N)\n",
    "        i += 1\n",
    "\n",
    "    return data"
   ]
  },
  {
   "cell_type": "code",
   "execution_count": null,
   "metadata": {},
   "outputs": [],
   "source": [
    "# create Fourier prediction for an entire 'year' (365 days)\n",
    "F_array = []\n",
    "for t in t_array:\n",
    "    F_array.append(F(t, k_array, coefs_matrix_mean))\n",
    "\n",
    "# transpose to get [var, T]\n",
    "F_array = np.array(F_array).T"
   ]
  },
  {
   "cell_type": "code",
   "execution_count": null,
   "metadata": {},
   "outputs": [],
   "source": [
    "# calculate residuals of the fourier + VAR\n",
    "residuals_matrix = []\n",
    "for year_index in range(len(year_array)):\n",
    "    data = data_list[year_index]\n",
    "    residuals = data[:, 1:] - (F_array[:, 1:] + M_fit @ (data[:, :-1] - F_array[:, :-1]))\n",
    "    residuals_matrix.append(residuals)\n",
    "\n",
    "residuals_matrix = np.hstack(residuals_matrix)\n",
    "\n",
    "std = np.std(residuals_matrix, axis=1)\n",
    "std\n",
    "\n",
    "residuals_matrix[:, 0]"
   ]
  },
  {
   "cell_type": "code",
   "execution_count": null,
   "metadata": {},
   "outputs": [],
   "source": [
    "# plot the residuals per variable\n",
    "for i, variable_name in enumerate(variables):\n",
    "    fig, ax = plt.subplots()\n",
    "    x = np.linspace(-4*std[i], 4*std[i], 1000)\n",
    "    normal = scipy.stats.norm.pdf(x, 0, std[i])\n",
    "    ax.plot(x, normal, label='normal distribution')\n",
    "    ax.hist(residuals_matrix[i, :], density=True, label='residuals')\n",
    "    ax.legend()\n",
    "    ax.set_xlabel(variable_name)\n",
    "    ax.set_ylabel('density')"
   ]
  },
  {
   "cell_type": "code",
   "execution_count": null,
   "metadata": {},
   "outputs": [],
   "source": [
    "# fourier prediction + correction by VAR\n",
    "# did not work (maybe because correlation disappears when taking residuals)\n",
    "def weather_hybrid(x, M, t, F_array, std):\n",
    "    return F_array[:, t] + M @ (x - F_array[:, t-1]) + np.random.normal(0, std)"
   ]
  },
  {
   "cell_type": "code",
   "execution_count": null,
   "metadata": {},
   "outputs": [],
   "source": [
    "# create prediction list [prediction, var, t]\n",
    "prediction_list = []\n",
    "n_predictions = 1000\n",
    "for j in range(n_predictions):\n",
    "\n",
    "    # first t is last 'known' datapoint\n",
    "    prediction = [data_list[-1][:, 0]]\n",
    "    for t in t_array[1:]:\n",
    "        prediction.append(weather_hybrid(prediction[-1], M_fit, t, F_array, std))\n",
    "\n",
    "    # transpose to get [var, t]\n",
    "    prediction = np.array(prediction).T\n",
    "    prediction_list.append(prediction)\n",
    "\n",
    "# [prediction, var, t]\n",
    "prediction_matrix = np.array(prediction_list)\n",
    "\n",
    "# calculate 95% CI with [var, t]\n",
    "lower = np.percentile(prediction_matrix, 2.5, axis=0)\n",
    "mean = np.mean(prediction_matrix, axis=0)\n",
    "upper = np.percentile(prediction_matrix, 97.5, axis=0)"
   ]
  },
  {
   "cell_type": "code",
   "execution_count": null,
   "metadata": {},
   "outputs": [],
   "source": [
    "# plot for each variable\n",
    "for i, variable_name in enumerate(variables):\n",
    "    fig, ax = plt.subplots()\n",
    "    for j in range(len(prediction_list)):\n",
    "        ax.errorbar(t_array, prediction_matrix[j, i, :], color='tab:blue', alpha=0.1)\n",
    "\n",
    "    ax.errorbar(t_array[-1], prediction_matrix[0, i, 0], color='tab:blue', label=f'{n_predictions} predictions')\n",
    "    ax.errorbar(t_array, F_array[i, :], label='Fourier', color='tab:orange')\n",
    "    ax.errorbar(t_array, lower[i, :], color='black', fmt='--', label='95% CI')\n",
    "    ax.errorbar(t_array, upper[i, :], color='black', fmt='--')\n",
    "    ax.errorbar(t_array, mean[i, :], color='black', fmt='-', label='prediction mean')\n",
    "    ax.errorbar(t_array, data_list[-1][i, :], label='observed', color='tab:red', fmt='o')\n",
    "    ax.set(xlabel='days', ylabel=variable_name, xlim=(0, 20))\n",
    "    ax.legend(loc=1)"
   ]
  },
  {
   "cell_type": "code",
   "execution_count": null,
   "metadata": {},
   "outputs": [],
   "source": [
    "plt.errorbar(t_array, df_bilt2009['temp_mean'], label='observed', fmt='o', color='tab:blue', markersize=4)\n",
    "plt.errorbar(t_array, F_array[8, :], label='Fourier prediction', fmt='-', color='black')\n",
    "plt.xlim(-10, 400)\n",
    "plt.ylim(-5, 30)\n",
    "plt.xlabel('t')\n",
    "plt.ylabel(r'$y(t)$')\n",
    "plt.title('Mean temperature 2009')\n",
    "plt.legend()\n",
    "plt.savefig('Figures/mean_temperature_2009_fourier_prediction_t365.png', dpi=600)"
   ]
  },
  {
   "cell_type": "code",
   "execution_count": null,
   "metadata": {},
   "outputs": [],
   "source": [
    "plt.errorbar(t_array, df_bilt2009['temp_mean'], label='observed', fmt='o', color='tab:blue', markersize=4)\n",
    "plt.errorbar(t_array, F_array[8, :], label='Fourier prediction', fmt='-', color='black')\n",
    "plt.xlim(0, 50)\n",
    "plt.ylim(-4, 8)\n",
    "plt.xlabel('t')\n",
    "plt.ylabel(r'$y(t)$')\n",
    "plt.title('Mean temperature 2009')\n",
    "plt.legend()\n",
    "plt.savefig('Figures/mean_temperature_2009_fourier_prediction_t50.png', dpi=600)"
   ]
  },
  {
   "cell_type": "code",
   "execution_count": null,
   "metadata": {},
   "outputs": [],
   "source": [
    "fig, ax = plt.subplots()\n",
    "i = 8\n",
    "variable_name = variables[i]\n",
    "for j in range(len(prediction_list)):\n",
    "    ax.errorbar(t_array, prediction_matrix[j, i, :], color='tab:blue', alpha=0.1)\n",
    "\n",
    "ax.errorbar(t_array[-1], prediction_matrix[0, i, 0], color='tab:blue', label=f'{n_predictions} predictions')\n",
    "ax.errorbar(t_array, F_array[i, :], label='Fourier', color='tab:orange')\n",
    "ax.errorbar(t_array, lower[i, :], color='black', fmt='--', label='95% CI')\n",
    "ax.errorbar(t_array, upper[i, :], color='black', fmt='--')\n",
    "ax.errorbar(t_array, mean[i, :], color='black', fmt='-', label='prediction mean')\n",
    "ax.errorbar(t_array, data_list[-1][i, :], label='observed', color='tab:red', fmt='o')\n",
    "ax.set(xlabel='t (days)', ylabel='Mean temperature (C)', xlim=(0, 50), ylim=(-10, 40))\n",
    "ax.set_title('')\n",
    "ax.legend(loc=1)\n",
    "fig.savefig('Figures/mean_temperature_2009_fourier_var_prediction_t50.png', dpi=600)"
   ]
  },
  {
   "cell_type": "code",
   "execution_count": null,
   "metadata": {},
   "outputs": [],
   "source": [
    "fig, ax = plt.subplots()\n",
    "i = 8\n",
    "variable_name = variables[i]\n",
    "for j in range(len(prediction_list)):\n",
    "    ax.errorbar(t_array, prediction_matrix[j, i, :], color='tab:blue', alpha=0.1)\n",
    "\n",
    "ax.errorbar(t_array[-1], prediction_matrix[0, i, 0], color='tab:blue', label=f'{n_predictions} predictions')\n",
    "ax.errorbar(t_array, F_array[i, :], label='Fourier', color='tab:orange')\n",
    "ax.errorbar(t_array, lower[i, :], color='black', fmt='--', label='95% CI')\n",
    "ax.errorbar(t_array, upper[i, :], color='black', fmt='--')\n",
    "ax.errorbar(t_array, mean[i, :], color='black', fmt='-', label='prediction mean')\n",
    "ax.errorbar(t_array, data_list[-1][i, :], label='observed', color='tab:red', fmt='o', markersize=3)\n",
    "ax.set(xlabel='t', ylabel='y(t)', xlim=(0, 380), ylim=(-10, 40))\n",
    "ax.set_title('2009')\n",
    "ax.legend(loc=1)\n",
    "fig.savefig('Figures/mean_temperature_2009_fourier_var_prediction_t365.png', dpi=600)"
   ]
  },
  {
   "cell_type": "code",
   "execution_count": null,
   "metadata": {},
   "outputs": [],
   "source": [
    "fig, ax = plt.subplots()\n",
    "i = 0\n",
    "variable_name = variables[i]\n",
    "for j in range(len(prediction_list)):\n",
    "    ax.errorbar(t_array, prediction_matrix[j, i, :], color='tab:blue', alpha=0.1)\n",
    "\n",
    "ax.errorbar(t_array[-1], prediction_matrix[0, i, 0], color='tab:blue', label=f'{n_predictions} predictions')\n",
    "ax.errorbar(t_array, F_array[i, :], label='Fourier', color='tab:orange')\n",
    "ax.errorbar(t_array, lower[i, :], color='black', fmt='--', label='95% CI')\n",
    "ax.errorbar(t_array, upper[i, :], color='black', fmt='--')\n",
    "ax.errorbar(t_array, mean[i, :], color='black', fmt='-', label='prediction mean')\n",
    "ax.errorbar(t_array, data_list[-1][i, :], label='observed', color='tab:red', fmt='o')\n",
    "ax.set(xlabel='t (days)', ylabel='Cloud coverage (okta)', xlim=(0, 50), ylim=(-2, 14))\n",
    "ax.set_title('')\n",
    "ax.legend(loc=1)\n",
    "fig.savefig('Figures/cloud_cover_2009_fourier_var_prediction_t50.png', dpi=600)"
   ]
  },
  {
   "cell_type": "code",
   "execution_count": null,
   "metadata": {},
   "outputs": [],
   "source": [
    "fig, ax = plt.subplots()\n",
    "i = 0\n",
    "variable_name = variables[i]\n",
    "for j in range(len(prediction_list)):\n",
    "    ax.errorbar(t_array, prediction_matrix[j, i, :], color='tab:blue', alpha=0.1)\n",
    "\n",
    "ax.errorbar(t_array[-1], prediction_matrix[0, i, 0], color='tab:blue', label=f'{n_predictions} predictions')\n",
    "ax.errorbar(t_array, F_array[i, :], label='Fourier', color='tab:orange')\n",
    "ax.errorbar(t_array, lower[i, :], color='black', fmt='--', label='95% CI')\n",
    "ax.errorbar(t_array, upper[i, :], color='black', fmt='--')\n",
    "ax.errorbar(t_array, mean[i, :], color='black', fmt='-', label='prediction mean')\n",
    "ax.errorbar(t_array, data_list[-1][i, :], label='observed', color='tab:red', fmt='o', markersize=3)\n",
    "ax.set(xlabel='t (days)', ylabel='Cloud coverage (okta)', xlim=(0, 400), ylim=(-2, 18))\n",
    "ax.set_title('')\n",
    "ax.legend(loc=1)\n",
    "fig.savefig('Figures/cloud_cover_2009_fourier_var_prediction_t365.png', dpi=600)"
   ]
  }
 ],
 "metadata": {
  "kernelspec": {
   "display_name": "SP",
   "language": "python",
   "name": "python3"
  },
  "language_info": {
   "codemirror_mode": {
    "name": "ipython",
    "version": 3
   },
   "file_extension": ".py",
   "mimetype": "text/x-python",
   "name": "python",
   "nbconvert_exporter": "python",
   "pygments_lexer": "ipython3",
   "version": "3.13.0"
  }
 },
 "nbformat": 4,
 "nbformat_minor": 2
}
