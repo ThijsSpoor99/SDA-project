{
 "cells": [
  {
   "cell_type": "code",
   "execution_count": null,
   "metadata": {},
   "outputs": [],
   "source": [
    "import pandas as pd\n",
    "import numpy as np\n",
    "import scipy\n",
    "import matplotlib.pyplot as plt"
   ]
  },
  {
   "cell_type": "code",
   "execution_count": null,
   "metadata": {},
   "outputs": [],
   "source": [
    "df_bilt = pd.read_csv('Data/de_bilt_weather.csv')"
   ]
  },
  {
   "cell_type": "code",
   "execution_count": null,
   "metadata": {},
   "outputs": [],
   "source": [
    "# define fit function without error\n",
    "def fit_lrm(x, alfa, beta):\n",
    "    return alfa + beta*x"
   ]
  },
  {
   "cell_type": "code",
   "execution_count": null,
   "metadata": {},
   "outputs": [],
   "source": [
    "# lag data by 1 day\n",
    "x = df_bilt['temp_mean'][:-1]\n",
    "y = df_bilt['temp_mean'][1:]\n",
    "\n",
    "# find optimal params where error is smallest\n",
    "params, _ = scipy.optimize.curve_fit(fit_lrm, x, y)\n",
    "alfa, beta = params\n",
    "\n",
    "# calculate std assuming normality\n",
    "std = np.sqrt((y - fit_lrm(x, alfa, beta))**2 / (len(x) - 2)) # -2 because 2 params (alfa, beta)"
   ]
  },
  {
   "cell_type": "code",
   "execution_count": null,
   "metadata": {},
   "outputs": [],
   "source": [
    "plt.errorbar(df_bilt['temp_mean'][:-1], df_bilt['temp_mean'][1:], fmt='o', color='tab:blue')\n",
    "plt.errorbar(df_bilt['temp_mean'][:-1], fit_lrm(df_bilt['temp_mean'][:-1], alfa, beta), fmt='-', color='black')"
   ]
  },
  {
   "cell_type": "code",
   "execution_count": null,
   "metadata": {},
   "outputs": [],
   "source": [
    "# define lrm with error\n",
    "def lrm(x, alfa, beta, sigma):\n",
    "    return alfa + beta*x + np.random.normal(0, sigma)"
   ]
  }
 ],
 "metadata": {
  "kernelspec": {
   "display_name": "SP",
   "language": "python",
   "name": "python3"
  },
  "language_info": {
   "codemirror_mode": {
    "name": "ipython",
    "version": 3
   },
   "file_extension": ".py",
   "mimetype": "text/x-python",
   "name": "python",
   "nbconvert_exporter": "python",
   "pygments_lexer": "ipython3",
   "version": "3.13.0"
  }
 },
 "nbformat": 4,
 "nbformat_minor": 2
}
