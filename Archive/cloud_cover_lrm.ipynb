{
 "cells": [
  {
   "cell_type": "code",
   "execution_count": null,
   "id": "0",
   "metadata": {},
   "outputs": [],
   "source": [
    "import pandas as pd\n",
    "import numpy as np\n",
    "import scipy\n",
    "import matplotlib.pyplot as plt\n",
    "from scipy.stats import chi2"
   ]
  },
  {
   "cell_type": "code",
   "execution_count": null,
   "id": "1",
   "metadata": {},
   "outputs": [],
   "source": [
    "df_bilt = pd.read_csv('/Users/georgepetropoulos/Desktop/de_bilt_weather.csv')"
   ]
  },
  {
   "cell_type": "code",
   "execution_count": null,
   "id": "2",
   "metadata": {},
   "outputs": [],
   "source": [
    "correlations = df_bilt[['sunshine', 'humidity', 'precipitation', 'wind_speed', 'wind_gust', 'cloud_cover', 'temp_mean','pressure', 'global_radiation']].corr()\n",
    "print(correlations)"
   ]
  },
  {
   "cell_type": "code",
   "execution_count": null,
   "id": "3",
   "metadata": {},
   "outputs": [],
   "source": [
    "# define fit function without error\n",
    "def fit_lrm(x, alfa, beta):\n",
    "    return alfa + beta*x"
   ]
  },
  {
   "cell_type": "code",
   "execution_count": null,
   "id": "4",
   "metadata": {},
   "outputs": [],
   "source": [
    "#wind_speed\n",
    "\n",
    "x_ws = df_bilt['wind_speed'][:-1].reset_index(drop = True)\n",
    "y_ws = df_bilt['wind_speed'][1:].reset_index(drop = True)\n",
    "\n",
    "params_ws, _ = scipy.optimize.curve_fit(fit_lrm, x_ws, y_ws)\n",
    "alfa_ws, beta_ws = params_ws\n",
    "\n",
    "residuals_ws = y_ws - fit_lrm(x_ws, alfa_ws, beta_ws)\n",
    "sigma_ws = np.sqrt(np.sum(residuals_ws**2) / (len(x_ws) - 2)) "
   ]
  },
  {
   "cell_type": "code",
   "execution_count": null,
   "id": "5",
   "metadata": {},
   "outputs": [],
   "source": [
    "#wind_gust\n",
    "\n",
    "x_wg = df_bilt['wind_gust'][:-1].reset_index(drop = True)\n",
    "y_wg = df_bilt['wind_gust'][1:].reset_index(drop = True)\n",
    "\n",
    "params_wg, _ = scipy.optimize.curve_fit(fit_lrm, x_wg, y_wg)\n",
    "alfa_wg, beta_wg = params_wg\n",
    "\n",
    "residuals_wg = y_wg - fit_lrm(x_wg, alfa_wg, beta_wg)\n",
    "sigma_wg = np.sqrt(np.sum(residuals_wg**2) / (len(x_wg) - 2))  "
   ]
  },
  {
   "cell_type": "code",
   "execution_count": null,
   "id": "6",
   "metadata": {},
   "outputs": [],
   "source": [
    "#humidity\n",
    "\n",
    "x_hd = df_bilt['humidity'][:-1].reset_index(drop = True)\n",
    "y_hd = df_bilt['humidity'][1:].reset_index(drop = True)\n",
    "\n",
    "params_hd, _ = scipy.optimize.curve_fit(fit_lrm, x_hd, y_hd)\n",
    "alfa_hd, beta_hd = params_hd\n",
    "\n",
    "residuals_hd = y_hd - fit_lrm(x_hd, alfa_hd, beta_hd)\n",
    "sigma_hd = np.sqrt(np.sum(residuals_hd**2) / (len(x_hd) - 2)) "
   ]
  },
  {
   "cell_type": "code",
   "execution_count": null,
   "id": "7",
   "metadata": {},
   "outputs": [],
   "source": [
    "#cloud cover\n",
    "#Seems non-linear, explored logistic transformation, polynomial fit (no help). \n",
    "\n",
    "x_cc = df_bilt['cloud_cover'][:-1].reset_index(drop = True)\n",
    "y_cc = df_bilt['cloud_cover'][1:].reset_index(drop = True)\n",
    "\n",
    "params_cc, _ = scipy.optimize.curve_fit(fit_lrm, x_cc, y_cc)\n",
    "alfa_cc, beta_cc = params_cc\n",
    "\n",
    "residuals_cc = y_cc - fit_lrm(x_cc, alfa_cc, beta_cc)\n",
    "sigma_cc = np.sqrt(np.sum(residuals_cc**2) / (len(x_cc) - 2))  # -2 because 2 params (alfa, beta)\n",
    "\n",
    "plt.errorbar(df_bilt['cloud_cover'][:-1], df_bilt['cloud_cover'][1:], fmt='o', color='tab:blue')\n",
    "plt.errorbar(df_bilt['cloud_cover'][:-1], fit_lrm(df_bilt['cloud_cover'][:-1], alfa_cc, beta_cc), fmt='-', color='black')"
   ]
  }
 ],
 "metadata": {
  "kernelspec": {
   "display_name": "Python 3 (ipykernel)",
   "language": "python",
   "name": "python3"
  },
  "language_info": {
   "codemirror_mode": {
    "name": "ipython",
    "version": 3
   },
   "file_extension": ".py",
   "mimetype": "text/x-python",
   "name": "python",
   "nbconvert_exporter": "python",
   "pygments_lexer": "ipython3",
   "version": "3.12.7"
  }
 },
 "nbformat": 4,
 "nbformat_minor": 5
}
