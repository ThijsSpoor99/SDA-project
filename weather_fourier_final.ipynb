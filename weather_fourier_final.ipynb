{
 "cells": [
  {
   "cell_type": "code",
   "execution_count": null,
   "metadata": {},
   "outputs": [],
   "source": [
    "import numpy as np\n",
    "import pandas as pd\n",
    "import matplotlib.pyplot as plt\n",
    "import scipy"
   ]
  },
  {
   "cell_type": "code",
   "execution_count": null,
   "metadata": {},
   "outputs": [],
   "source": [
    "df_bilt = pd.read_csv('Data/de_bilt_weather.csv')\n",
    "\n",
    "df_bilt2000 = df_bilt.loc[df_bilt['year'] == 2000].copy()\n",
    "df_bilt2001 = df_bilt.loc[df_bilt['year'] == 2001].copy()\n",
    "df_bilt2002 = df_bilt.loc[df_bilt['year'] == 2002].copy()\n",
    "df_bilt2009 = df_bilt.loc[df_bilt['year'] == 2009].copy()\n",
    "\n",
    "n_data = 365"
   ]
  },
  {
   "cell_type": "code",
   "execution_count": null,
   "metadata": {},
   "outputs": [],
   "source": [
    "variables = ['cloud_cover', 'wind_speed', 'wind_gust', 'humidity',   \n",
    "            'pressure', 'global_radiation', 'precipitation', 'sunshine',\n",
    "            'temp_mean', 'temp_min', 'temp_max'] \n",
    "\n",
    "n_var = len(variables)"
   ]
  },
  {
   "cell_type": "code",
   "execution_count": null,
   "metadata": {},
   "outputs": [],
   "source": [
    "# do not include 2010 (no data)\n",
    "year_array = np.arange(2000, 2009)"
   ]
  },
  {
   "cell_type": "code",
   "execution_count": null,
   "metadata": {},
   "outputs": [],
   "source": [
    "def DFT(data):\n",
    "    N = len(data)\n",
    "    \n",
    "    k_array = np.arange(N)\n",
    "    t_array = np.arange(N)\n",
    "\n",
    "    exponentials =  np.exp(-2j * np.pi * np.outer(k_array, t_array) / N)\n",
    "    coefs = exponentials @ data\n",
    "    \n",
    "    return k_array, coefs / N\n",
    "\n",
    "def reconstruct(t_array, k_array, coefs):\n",
    "    N = len(coefs)\n",
    "    data = np.zeros(len(t_array), dtype=object)\n",
    "\n",
    "    for k in k_array:\n",
    "        A = np.abs(coefs[k])\n",
    "        phase = np.angle(coefs[k])\n",
    "        data += A * np.cos(phase + 2 * np.pi * k * t_array / N)\n",
    "\n",
    "    return data"
   ]
  },
  {
   "cell_type": "code",
   "execution_count": null,
   "metadata": {},
   "outputs": [],
   "source": [
    "coefs_list = []\n",
    "data_list = []\n",
    "for year in year_array:\n",
    "    df_selection = df_bilt.loc[df_bilt['year'] == year]\n",
    "    df_selection = df_selection[:n_data]\n",
    "\n",
    "    coefs_matrix = []\n",
    "    for variable_name in variables:\n",
    "        data = np.array(df_selection[variable_name])                \n",
    "        \n",
    "        k, coefs = DFT(data)\n",
    "        coefs_matrix.append(coefs)\n",
    "    \n",
    "    coefs_matrix = np.array(coefs_matrix)\n",
    "    coefs_list.append(coefs_matrix)"
   ]
  },
  {
   "cell_type": "code",
   "execution_count": null,
   "metadata": {},
   "outputs": [],
   "source": [
    "coefs_matrix_mean = np.mean(coefs_list, axis=0)\n",
    "\n",
    "for i, variable_name in enumerate(variables):\n",
    "    fig, ax = plt.subplots()\n",
    "    ax.plot(range(n_data), np.abs(coefs_matrix_mean[i, :]))\n",
    "    ax.set_yscale('log')\n",
    "    ax.hlines(0.01, 0, 360, color='black', linestyles='--')\n",
    "    ax.set_title(variable_name)"
   ]
  },
  {
   "cell_type": "code",
   "execution_count": null,
   "metadata": {},
   "outputs": [],
   "source": [
    "threshold = 0.001\n",
    "k_array = []\n",
    "data_transformed = []\n",
    "for i in range(n_var):\n",
    "    coefs_matrix = coefs_matrix_mean[i, :]\n",
    "    coefs_abs = np.abs(coefs_matrix)\n",
    "    coefs_relative = coefs_abs / np.sum(coefs_abs)\n",
    "\n",
    "    k_filtered = k[coefs_relative > threshold]\n",
    "    k_array.append(k_filtered)\n",
    "\n",
    "k_array = np.array(k_array, dtype=object)"
   ]
  },
  {
   "cell_type": "code",
   "execution_count": null,
   "metadata": {},
   "outputs": [],
   "source": [
    "t_array = np.arange(n_data)\n",
    "\n",
    "coefs_list = []\n",
    "data_list = []\n",
    "for year in list(year_array) + [2009]:\n",
    "    df_selection = df_bilt.loc[df_bilt['year'] == year]\n",
    "    df_selection = df_selection[:n_data]\n",
    "\n",
    "    data_matrix = []\n",
    "    for variable_name in variables:\n",
    "        data = np.array(df_selection[variable_name])\n",
    "        data_matrix.append(data)\n",
    "        \n",
    "    data_matrix = np.array(data_matrix)  \n",
    "    data_list.append(data_matrix)\n",
    "\n",
    "data_fourier_matrix = []\n",
    "for i in range(n_var):\n",
    "    data_fourier_matrix.append(reconstruct(t_array, k_array[i], coefs_matrix_mean[i, :]))\n",
    "data_fourier_matrix = np.array(data_fourier_matrix)\n",
    "\n",
    "plt.plot(t_array, data_fourier_matrix[i, :])\n",
    "plt.plot(t_array, data_list[-1][i, :])"
   ]
  },
  {
   "cell_type": "code",
   "execution_count": null,
   "metadata": {},
   "outputs": [],
   "source": [
    "for i, variable_name in enumerate(variables):\n",
    "    prediction = reconstruct(t_array, k_array[i], coefs_matrix_mean[i, :])\n",
    "\n",
    "    fig, ax = plt.subplots()\n",
    "    ax.errorbar(t_array, prediction)\n",
    "    ax.errorbar(t_array, df_bilt2009[variable_name][:n_data], fmt='o')\n",
    "    ax.set_title(variable_name)"
   ]
  },
  {
   "cell_type": "code",
   "execution_count": null,
   "metadata": {},
   "outputs": [],
   "source": [
    "fourier_residuals = data_list[:-1] - data_fourier_matrix\n",
    "\n",
    "big_fourier_residuals = np.hstack(fourier_residuals)"
   ]
  },
  {
   "cell_type": "code",
   "execution_count": null,
   "metadata": {},
   "outputs": [],
   "source": [
    "def var_initial_norm(params, data, n_var):\n",
    "    matrix = params.reshape(n_var, n_var)\n",
    "    prediction = matrix @ data[:, :-1]\n",
    "    return np.linalg.norm(data[:, 1:] - prediction)\n",
    "\n",
    "def fit_var(data):\n",
    "    # quess logical values to help fit\n",
    "    params = np.zeros((n_var, n_var)).flatten()\n",
    "        \n",
    "    # let scipy perform his magic\n",
    "    # Powell is slower, but appears to perform better than BFGS\n",
    "    result = scipy.optimize.minimize(var_initial_norm, params, method='Powell', args=(data, n_var))\n",
    "\n",
    "    # extract fit result\n",
    "    M_fit = result.x.reshape(n_var, n_var)\n",
    "\n",
    "    return M_fit\n",
    "\n",
    "M_fit = fit_var(big_fourier_residuals)"
   ]
  },
  {
   "cell_type": "code",
   "execution_count": null,
   "metadata": {},
   "outputs": [],
   "source": [
    "def F(t, k_array, coefs_matrix):\n",
    "    \n",
    "    N = len(coefs_matrix[0, :])\n",
    "    data = np.zeros(len(k_array))\n",
    "\n",
    "    i = 0\n",
    "    for k_list, coefs in zip(k_array, coefs_matrix):\n",
    "        for k in k_list:\n",
    "            A = np.abs(coefs[k])\n",
    "            phase = np.angle(coefs[k])\n",
    "            data[i] += A * np.cos(phase + 2 * np.pi * k * t / N)\n",
    "        i += 1\n",
    "\n",
    "    return data\n",
    "\n",
    "def weather_var(x, M, t, k_array, coefs_matrix, std):\n",
    "    return F(t, k_array, coefs_matrix) + M @ (x - F(t-1, k_array, coefs_matrix)) + np.random.normal(0, std)"
   ]
  },
  {
   "cell_type": "code",
   "execution_count": null,
   "metadata": {},
   "outputs": [],
   "source": [
    "F_array = []\n",
    "for t in t_array:\n",
    "    F_array.append(F(t, k_array, coefs_matrix_mean))\n",
    "F_array = np.array(F_array).T"
   ]
  },
  {
   "cell_type": "code",
   "execution_count": null,
   "metadata": {},
   "outputs": [],
   "source": [
    "residuals_matrix = []\n",
    "for year_index in range(len(year_array)):\n",
    "    data = data_list[year_index]\n",
    "    residuals = data[:, 1:] - (F_array[:, 1:] + M_fit @ (data[:, :-1] - F_array[:, :-1]))\n",
    "    residuals_matrix.append(residuals)\n",
    "\n",
    "residuals_matrix = np.hstack(residuals_matrix)\n",
    "\n",
    "std = np.std(residuals_matrix, axis=1)\n",
    "std"
   ]
  },
  {
   "cell_type": "code",
   "execution_count": null,
   "metadata": {},
   "outputs": [],
   "source": [
    "def weather_hybrid(x, M, t, F_array, std):\n",
    "    return F_array[:, t] + M @ (x - F_array[:, t-1]) + np.random.normal(0, std)"
   ]
  },
  {
   "cell_type": "code",
   "execution_count": null,
   "metadata": {},
   "outputs": [],
   "source": [
    "prediction_list = []\n",
    "n_predictions = 1000\n",
    "for j in range(n_predictions):\n",
    "    prediction = [data_list[-1][:, 0]]\n",
    "    for t in t_array[1:]:\n",
    "        prediction.append(weather_hybrid(prediction[-1], M_fit, t, F_array, std))\n",
    "    prediction = np.array(prediction).T\n",
    "    prediction_list.append(prediction)\n",
    "\n",
    "prediction_matrix = np.array(prediction_list)\n",
    "\n",
    "lower = np.percentile(prediction_matrix, 2.5, axis=0)\n",
    "mean = np.mean(prediction_matrix, axis=0)\n",
    "upper = np.percentile(prediction_matrix, 97.5, axis=0)"
   ]
  },
  {
   "cell_type": "code",
   "execution_count": null,
   "metadata": {},
   "outputs": [],
   "source": [
    "# plot for each variable\n",
    "for i, variable_name in enumerate(variables):\n",
    "    fig, ax = plt.subplots()\n",
    "    for j in range(len(prediction_list)):\n",
    "        ax.errorbar(t_array, prediction_matrix[j, i, :], color='tab:blue', alpha=0.1)\n",
    "\n",
    "    ax.errorbar(t_array[-1], prediction_matrix[0, i, 0], color='tab:blue', label=f'{n_predictions} predictions')\n",
    "    ax.errorbar(t_array, F_array[i, :], label='Fourier', color='tab:orange')\n",
    "    ax.errorbar(t_array, lower[i, :], color='black', fmt='--', label='95% CI')\n",
    "    ax.errorbar(t_array, upper[i, :], color='black', fmt='--')\n",
    "    ax.errorbar(t_array, mean[i, :], color='black', fmt='-', label='prediction mean')\n",
    "    ax.errorbar(t_array, data_list[-1][i, :], label='observed', color='tab:red', fmt='o')\n",
    "    ax.set(xlabel='days', ylabel=variable_name, xlim=(0, 20))\n",
    "    ax.legend(loc=1)"
   ]
  },
  {
   "cell_type": "code",
   "execution_count": null,
   "metadata": {},
   "outputs": [],
   "source": [
    "plt.errorbar(t_array, df_bilt2009['temp_mean'], label='observed', fmt='o', color='tab:blue', markersize=4)\n",
    "plt.errorbar(t_array, F_array[8, :], label='Fourier prediction', fmt='-', color='black')\n",
    "plt.xlim(-10, 400)\n",
    "plt.ylim(-5, 30)\n",
    "plt.xlabel('t')\n",
    "plt.ylabel(r'$y(t)$')\n",
    "plt.title('Mean temperature 2009')\n",
    "plt.legend()\n",
    "plt.savefig('Figures/fourier6.png', dpi=600)"
   ]
  },
  {
   "cell_type": "code",
   "execution_count": null,
   "metadata": {},
   "outputs": [],
   "source": [
    "plt.errorbar(t_array, df_bilt2009['temp_mean'], label='observed', fmt='o', color='tab:blue', markersize=4)\n",
    "plt.errorbar(t_array, F_array[8, :], label='Fourier prediction', fmt='-', color='black')\n",
    "plt.xlim(0, 50)\n",
    "plt.ylim(-4, 8)\n",
    "plt.xlabel('t')\n",
    "plt.ylabel(r'$y(t)$')\n",
    "plt.title('Mean temperature 2009')\n",
    "plt.legend()\n",
    "plt.savefig('Figures/fourier5.png', dpi=600)"
   ]
  },
  {
   "cell_type": "code",
   "execution_count": null,
   "metadata": {},
   "outputs": [],
   "source": [
    "fig, ax = plt.subplots()\n",
    "i = 8\n",
    "variable_name = variables[i]\n",
    "for j in range(len(prediction_list)):\n",
    "    ax.errorbar(t_array, prediction_matrix[j, i, :], color='tab:blue', alpha=0.1)\n",
    "\n",
    "ax.errorbar(t_array[-1], prediction_matrix[0, i, 0], color='tab:blue', label=f'{n_predictions} predictions')\n",
    "ax.errorbar(t_array, F_array[i, :], label='Fourier', color='tab:orange')\n",
    "ax.errorbar(t_array, lower[i, :], color='black', fmt='--', label='95% CI')\n",
    "ax.errorbar(t_array, upper[i, :], color='black', fmt='--')\n",
    "ax.errorbar(t_array, mean[i, :], color='black', fmt='-', label='prediction mean')\n",
    "ax.errorbar(t_array, data_list[-1][i, :], label='observed', color='tab:red', fmt='o')\n",
    "ax.set(xlabel='t (days)', ylabel='Mean temperature (C)', xlim=(0, 50), ylim=(-10, 40))\n",
    "ax.set_title('')\n",
    "ax.legend(loc=1)\n",
    "fig.savefig('Figures/fourier7.png', dpi=600)"
   ]
  },
  {
   "cell_type": "code",
   "execution_count": null,
   "metadata": {},
   "outputs": [],
   "source": [
    "fig, ax = plt.subplots()\n",
    "i = 8\n",
    "variable_name = variables[i]\n",
    "for j in range(len(prediction_list)):\n",
    "    ax.errorbar(t_array, prediction_matrix[j, i, :], color='tab:blue', alpha=0.1)\n",
    "\n",
    "ax.errorbar(t_array[-1], prediction_matrix[0, i, 0], color='tab:blue', label=f'{n_predictions} predictions')\n",
    "ax.errorbar(t_array, F_array[i, :], label='Fourier', color='tab:orange')\n",
    "ax.errorbar(t_array, lower[i, :], color='black', fmt='--', label='95% CI')\n",
    "ax.errorbar(t_array, upper[i, :], color='black', fmt='--')\n",
    "ax.errorbar(t_array, mean[i, :], color='black', fmt='-', label='prediction mean')\n",
    "ax.errorbar(t_array, data_list[-1][i, :], label='observed', color='tab:red', fmt='o', markersize=3)\n",
    "ax.set(xlabel='t', ylabel='y(t)', xlim=(0, 380), ylim=(-10, 40))\n",
    "ax.set_title('2009')\n",
    "ax.legend(loc=1)\n",
    "fig.savefig('Figures/fourier8.png', dpi=600)"
   ]
  },
  {
   "cell_type": "code",
   "execution_count": null,
   "metadata": {},
   "outputs": [],
   "source": [
    "fig, ax = plt.subplots()\n",
    "i = 0\n",
    "variable_name = variables[i]\n",
    "for j in range(len(prediction_list)):\n",
    "    ax.errorbar(t_array, prediction_matrix[j, i, :], color='tab:blue', alpha=0.1)\n",
    "\n",
    "ax.errorbar(t_array[-1], prediction_matrix[0, i, 0], color='tab:blue', label=f'{n_predictions} predictions')\n",
    "ax.errorbar(t_array, F_array[i, :], label='Fourier', color='tab:orange')\n",
    "ax.errorbar(t_array, lower[i, :], color='black', fmt='--', label='95% CI')\n",
    "ax.errorbar(t_array, upper[i, :], color='black', fmt='--')\n",
    "ax.errorbar(t_array, mean[i, :], color='black', fmt='-', label='prediction mean')\n",
    "ax.errorbar(t_array, data_list[-1][i, :], label='observed', color='tab:red', fmt='o')\n",
    "ax.set(xlabel='t (days)', ylabel='Cloud coverage (okta)', xlim=(0, 50), ylim=(-2, 12))\n",
    "ax.set_title('')\n",
    "ax.legend(loc=1)\n",
    "fig.savefig('Figures/fourier9.png', dpi=600)"
   ]
  },
  {
   "cell_type": "code",
   "execution_count": null,
   "metadata": {},
   "outputs": [],
   "source": [
    "fig, ax = plt.subplots()\n",
    "i = 0\n",
    "variable_name = variables[i]\n",
    "for j in range(len(prediction_list)):\n",
    "    ax.errorbar(t_array, prediction_matrix[j, i, :], color='tab:blue', alpha=0.1)\n",
    "\n",
    "ax.errorbar(t_array[-1], prediction_matrix[0, i, 0], color='tab:blue', label=f'{n_predictions} predictions')\n",
    "ax.errorbar(t_array, F_array[i, :], label='Fourier', color='tab:orange')\n",
    "ax.errorbar(t_array, lower[i, :], color='black', fmt='--', label='95% CI')\n",
    "ax.errorbar(t_array, upper[i, :], color='black', fmt='--')\n",
    "ax.errorbar(t_array, mean[i, :], color='black', fmt='-', label='prediction mean')\n",
    "ax.errorbar(t_array, data_list[-1][i, :], label='observed', color='tab:red', fmt='o')\n",
    "ax.set(xlabel='t (days)', ylabel='Mean temperature (C)', xlim=(0, 50), ylim=(-10, 40))\n",
    "ax.set_title('')\n",
    "ax.legend(loc=1)\n",
    "fig.savefig('Figures/fourier10.png', dpi=600)"
   ]
  }
 ],
 "metadata": {
  "kernelspec": {
   "display_name": "SP",
   "language": "python",
   "name": "python3"
  },
  "language_info": {
   "codemirror_mode": {
    "name": "ipython",
    "version": 3
   },
   "file_extension": ".py",
   "mimetype": "text/x-python",
   "name": "python",
   "nbconvert_exporter": "python",
   "pygments_lexer": "ipython3",
   "version": "3.13.0"
  }
 },
 "nbformat": 4,
 "nbformat_minor": 2
}
