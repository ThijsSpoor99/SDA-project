{
 "cells": [
  {
   "cell_type": "code",
   "execution_count": null,
   "metadata": {},
   "outputs": [],
   "source": [
    "import numpy as np\n",
    "import pandas as pd\n",
    "import matplotlib.pyplot as plt\n",
    "import scipy"
   ]
  },
  {
   "cell_type": "code",
   "execution_count": null,
   "metadata": {},
   "outputs": [],
   "source": [
    "df_bilt = pd.read_csv('Data/de_bilt_weather.csv')\n",
    "\n",
    "df_bilt['days'] = df_bilt['days'] - df_bilt['days'].min()\n",
    "\n",
    "variables = ['cloud_cover', 'wind_speed', 'wind_gust', 'humidity',          # george\n",
    "            'pressure', 'global_radiation', 'precipitation', 'sunshine',    # skipper\n",
    "            'temp_mean', 'temp_min', 'temp_max'] \n",
    "\n",
    "n_var = len(variables)  "
   ]
  },
  {
   "cell_type": "code",
   "execution_count": null,
   "metadata": {},
   "outputs": [],
   "source": [
    "# input variables\n",
    "train_range = 30\n",
    "test_range = 10 + 1"
   ]
  },
  {
   "cell_type": "code",
   "execution_count": null,
   "metadata": {},
   "outputs": [],
   "source": [
    "# reshape data\n",
    "data = []\n",
    "for variable_name in variables:\n",
    "    data.append(df_bilt[variable_name][:train_range + test_range])\n",
    "data = np.vstack(data)\n",
    "\n",
    "train_data = data[:, :train_range]\n",
    "test_data = data[:, train_range:]\n",
    "\n",
    "print(train_data.shape)\n",
    "print(test_data.shape)"
   ]
  },
  {
   "cell_type": "code",
   "execution_count": null,
   "metadata": {},
   "outputs": [],
   "source": [
    "def var_initial_norm(params, data, means, n_var):\n",
    "    c = params[:n_var]\n",
    "    matrix = params[n_var:].reshape(n_var, n_var)\n",
    "    prediction = c[:, None] + matrix @ data[:, :-1]\n",
    "    return np.linalg.norm((data[:, 1:] - prediction) / means[:, None])"
   ]
  },
  {
   "cell_type": "code",
   "execution_count": null,
   "metadata": {},
   "outputs": [],
   "source": [
    "params = np.zeros(n_var + n_var**2)\n",
    "\n",
    "means = np.mean(train_data, axis=1)\n",
    "\n",
    "# let scipy perform his magic\n",
    "# Powell is slower, but appears to perform better than BFGS\n",
    "result = scipy.optimize.minimize(var_initial_norm, params, method='Powell', args=(train_data, means, n_var))\n",
    "\n",
    "# extract fit result\n",
    "c_var = result.x[:n_var]\n",
    "M_var = result.x[n_var:].reshape(n_var, n_var)\n",
    "\n",
    "# calculate residuals and std of error (assuming normality)\n",
    "residuals = train_data[:, 1:] - (c_var[:, None] + M_var @ train_data[:, :-1])\n",
    "std_var = np.std(residuals, axis=1)\n",
    "\n",
    "std_var"
   ]
  },
  {
   "cell_type": "code",
   "execution_count": null,
   "metadata": {},
   "outputs": [],
   "source": [
    "plt.hist(residuals[8, :], range=(-4, 4), bins=8)"
   ]
  },
  {
   "cell_type": "code",
   "execution_count": null,
   "metadata": {},
   "outputs": [],
   "source": [
    "def weather_var(x, c, M, std):\n",
    "    return c + M @ x + np.random.normal(0, std)\n",
    "\n",
    "t_train_data = np.arange(train_range)\n",
    "t_test_data = np.arange(train_range, train_range + test_range)\n",
    "\n",
    "prediction_list = []\n",
    "n_predictions = 1000\n",
    "for j in range(n_predictions):\n",
    "    prediction = [test_data[:, 0]]\n",
    "    for _ in t_test_data[1:]:\n",
    "        prediction.append(weather_var(prediction[-1], c_var, M_var, std_var))\n",
    "    prediction = np.array(prediction).T\n",
    "    prediction_list.append(prediction)\n",
    "\n",
    "prediction_matrix = np.array(prediction_list)\n",
    "\n",
    "lower = np.percentile(prediction_matrix, 2.5, axis=0)\n",
    "mean = np.mean(prediction_matrix, axis=0)\n",
    "upper = np.percentile(prediction_matrix, 97.5, axis=0)"
   ]
  },
  {
   "cell_type": "code",
   "execution_count": null,
   "metadata": {},
   "outputs": [],
   "source": [
    "# plot for each variable\n",
    "for i, variable_name in enumerate(variables):\n",
    "    fig, ax = plt.subplots()\n",
    "    for j in range(len(prediction_list)):\n",
    "        ax.errorbar(t_test_data, prediction_matrix[j, i, :], color='tab:blue', alpha=0.1)\n",
    "\n",
    "    ax.errorbar(t_test_data[0], prediction_matrix[0, i, 0], color='tab:blue', label=f'{n_predictions} predictions')\n",
    "    ax.errorbar(t_test_data, lower[i, :], color='black', fmt='--', label='95% CI')\n",
    "    ax.errorbar(t_test_data, upper[i, :], color='black', fmt='--')\n",
    "    ax.errorbar(t_test_data, mean[i, :], color='black', fmt='-', label='prediction mean')\n",
    "    ax.errorbar(t_test_data, test_data[i, :], label='observed', color='tab:red', fmt='o')\n",
    "    ax.set(xlabel='days', ylabel=variable_name)\n",
    "    ax.legend(loc=1)"
   ]
  },
  {
   "cell_type": "code",
   "execution_count": null,
   "metadata": {},
   "outputs": [],
   "source": [
    "i = 0\n",
    "print(variables[i])\n",
    "\n",
    "fig, ax = plt.subplots()\n",
    "for j in range(len(prediction_list)):\n",
    "    ax.errorbar(t_test_data, prediction_matrix[j, i, :], color='tab:blue', alpha=0.1)\n",
    "\n",
    "ax.errorbar(t_test_data[0], prediction_matrix[0, i, 0], color='tab:blue', label=f'{n_predictions} predictions')\n",
    "ax.errorbar(t_test_data, lower[i, :], color='black', fmt='--', label='95% CI')\n",
    "ax.errorbar(t_test_data, upper[i, :], color='black', fmt='--')\n",
    "ax.errorbar(t_test_data, mean[i, :], color='black', fmt='-', label='prediction mean')\n",
    "ax.errorbar(t_test_data, test_data[i, :], label='observed', color='tab:red', fmt='o')\n",
    "ax.set(xlabel='t (days)', ylabel='Cloud coverage', xlim=(30, 40), ylim=(-15, 25))\n",
    "ax.legend(loc=1, framealpha=1)\n",
    "fig.savefig('Figures/var1.png', dpi=600)"
   ]
  },
  {
   "cell_type": "code",
   "execution_count": null,
   "metadata": {},
   "outputs": [],
   "source": [
    "i = 8\n",
    "print(variables[i])\n",
    "\n",
    "fig, ax = plt.subplots()\n",
    "for j in range(len(prediction_list)):\n",
    "    ax.errorbar(t_test_data, prediction_matrix[j, i, :], color='tab:blue', alpha=0.1)\n",
    "\n",
    "ax.errorbar(t_test_data[0], prediction_matrix[0, i, 0], color='tab:blue', label=f'{n_predictions} predictions')\n",
    "ax.errorbar(t_test_data, lower[i, :], color='black', fmt='--', label='95% CI')\n",
    "ax.errorbar(t_test_data, upper[i, :], color='black', fmt='--')\n",
    "ax.errorbar(t_test_data, mean[i, :], color='black', fmt='-', label='prediction mean')\n",
    "ax.errorbar(t_test_data, test_data[i, :], label='observed', color='tab:red', fmt='o')\n",
    "ax.set(xlabel='t (days)', ylabel='Mean temperature', xlim=(30, 40), ylim=(-20, 30))\n",
    "ax.legend(loc=1, framealpha=1)\n",
    "fig.savefig('Figures/var2.png', dpi=600)"
   ]
  }
 ],
 "metadata": {
  "kernelspec": {
   "display_name": "SP",
   "language": "python",
   "name": "python3"
  },
  "language_info": {
   "codemirror_mode": {
    "name": "ipython",
    "version": 3
   },
   "file_extension": ".py",
   "mimetype": "text/x-python",
   "name": "python",
   "nbconvert_exporter": "python",
   "pygments_lexer": "ipython3",
   "version": "3.13.0"
  }
 },
 "nbformat": 4,
 "nbformat_minor": 2
}
