{
 "cells": [
  {
   "cell_type": "code",
   "execution_count": null,
   "metadata": {},
   "outputs": [],
   "source": [
    "import numpy as np\n",
    "import pandas as pd\n",
    "import matplotlib.pyplot as plt\n",
    "import scipy"
   ]
  },
  {
   "cell_type": "code",
   "execution_count": null,
   "metadata": {},
   "outputs": [],
   "source": [
    "df_bilt = pd.read_csv('Data/de_bilt_weather.csv')\n",
    "df_bilt2000 = df_bilt.loc[df_bilt['year'] == 2000].copy()\n",
    "df_bilt2000['days'] = df_bilt['days'] - df_bilt['days'].min() + 1\n",
    "\n",
    "variables = ['cloud_cover', 'wind_speed', 'wind_gust', 'humidity',          # george\n",
    "            'pressure', 'global_radiation', 'precipitation', 'sunshine',    # skipper\n",
    "            'temp_mean', 'temp_min', 'temp_max']                            # thijs\n",
    "\n",
    "n_var = len(variables)"
   ]
  },
  {
   "cell_type": "code",
   "execution_count": null,
   "metadata": {},
   "outputs": [],
   "source": [
    "# define lrm fit function without error\n",
    "def fit_lrm(x, alfa, beta):\n",
    "    return alfa + beta*x"
   ]
  },
  {
   "cell_type": "code",
   "execution_count": null,
   "metadata": {},
   "outputs": [],
   "source": [
    "alfa_list = []\n",
    "beta_list = []\n",
    "std_list = []\n",
    "\n",
    "# fit lrm for each variable\n",
    "for variable_name in variables:\n",
    "    # lag data by 1 day\n",
    "    x = np.array(df_bilt[variable_name][:-1])\n",
    "    y = np.array(df_bilt[variable_name][1:])\n",
    "\n",
    "    # find optimal params where error is smallest\n",
    "    params, _ = scipy.optimize.curve_fit(fit_lrm, x, y)\n",
    "    alfa, beta = params\n",
    "\n",
    "    # calculate std assuming normality\n",
    "    std = np.std(y - fit_lrm(x, alfa, beta))\n",
    "\n",
    "    alfa_list.append(alfa)\n",
    "    beta_list.append(beta)\n",
    "    std_list.append(std)\n",
    "\n",
    "std_list = np.array(std_list)"
   ]
  },
  {
   "cell_type": "code",
   "execution_count": null,
   "metadata": {},
   "outputs": [],
   "source": [
    "# define function to fit matrix function\n",
    "# returns the norm of the error matrix\n",
    "def fit_matrix(params, x, y, n_var):\n",
    "    c = params[:n_var]\n",
    "    matrix = params[n_var:].reshape(n_var, n_var)\n",
    "    prediction = c[:, None] + matrix @ x\n",
    "    return np.linalg.norm(y - prediction)\n",
    "\n",
    "# reshape data into [var, t]\n",
    "# where input is the x\n",
    "# and output the y, which is lagged by 1\n",
    "input_matrix = []\n",
    "output_matrix = []\n",
    "for variable in variables:\n",
    "    input_matrix.append(df_bilt[variable][:-1])\n",
    "    output_matrix.append(df_bilt[variable][1:])\n",
    "\n",
    "input_matrix = np.vstack(input_matrix)\n",
    "output_matrix = np.vstack(output_matrix)\n",
    "\n",
    "# quess the matrix based on individual lrm fits\n",
    "M_quess = np.zeros((n_var, n_var))\n",
    "np.fill_diagonal(M_quess, beta_list)\n",
    "\n",
    "# flatten c + M into a 1D array\n",
    "# required for scipy.optimize.minimize (only accepts a list-like)\n",
    "params = np.hstack([np.zeros(n_var), M_quess.flatten()])\n",
    "\n",
    "# let scipy do the hard part\n",
    "result = scipy.optimize.minimize(fit_matrix, params, method='Powell', args=(input_matrix, output_matrix, n_var))"
   ]
  },
  {
   "cell_type": "code",
   "execution_count": null,
   "metadata": {},
   "outputs": [],
   "source": [
    "# unpack the fit result\n",
    "c_fit = result.x[:n_var]\n",
    "M_fit = result.x[n_var:].reshape(n_var, n_var)\n",
    "\n",
    "plt.imshow(M_fit)\n",
    "plt.colorbar()"
   ]
  },
  {
   "cell_type": "code",
   "execution_count": null,
   "metadata": {},
   "outputs": [],
   "source": [
    "def weather_var(x, c, matrix, std):\n",
    "    return c + matrix @ x + np.random.normal(0, std)"
   ]
  },
  {
   "cell_type": "code",
   "execution_count": null,
   "metadata": {},
   "outputs": [],
   "source": [
    "t_array = np.arange(21)\n",
    "n_predictions = 1000\n",
    "\n",
    "# prediction list is 3D with [n_prediction, var, t]\n",
    "prediction_list = []\n",
    "for _ in range(n_predictions):\n",
    "    prediction = [input_matrix[:, 0]]\n",
    "    for _ in t_array[1:]:\n",
    "        prediction.append(weather_var(prediction[-1], c_fit, M_fit, std_list))\n",
    "\n",
    "    # reshape prediction to [var, t]\n",
    "    prediction = np.array(prediction).T\n",
    "    prediction_list.append(prediction)\n",
    "\n",
    "prediction_list = np.array(prediction_list)\n",
    "\n",
    "# plot for each variable\n",
    "for i, variable_name in enumerate(variables):\n",
    "    fig, ax = plt.subplots()\n",
    "\n",
    "    for j in range(n_predictions):\n",
    "        ax.errorbar(t_array, prediction_list[j, i, :], color='tab:blue', alpha=0.2)\n",
    "\n",
    "    ax.errorbar(t_array, df_bilt[variable_name][:len(t_array)], label='observed', color='black')\n",
    "    ax.errorbar(1, 1, label=f'{n_predictions} predictions')\n",
    "    ax.set(xlabel='days', ylabel=variable_name)\n",
    "    ax.legend(loc=1)\n"
   ]
  }
 ],
 "metadata": {
  "kernelspec": {
   "display_name": "SP",
   "language": "python",
   "name": "python3"
  },
  "language_info": {
   "codemirror_mode": {
    "name": "ipython",
    "version": 3
   },
   "file_extension": ".py",
   "mimetype": "text/x-python",
   "name": "python",
   "nbconvert_exporter": "python",
   "pygments_lexer": "ipython3",
   "version": "3.13.0"
  }
 },
 "nbformat": 4,
 "nbformat_minor": 2
}
