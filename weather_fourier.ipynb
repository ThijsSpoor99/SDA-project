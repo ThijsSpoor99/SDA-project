{
 "cells": [
  {
   "cell_type": "code",
   "execution_count": null,
   "metadata": {},
   "outputs": [],
   "source": [
    "import numpy as np\n",
    "import pandas as pd\n",
    "import matplotlib.pyplot as plt\n",
    "import scipy"
   ]
  },
  {
   "cell_type": "code",
   "execution_count": null,
   "metadata": {},
   "outputs": [],
   "source": [
    "df_bilt = pd.read_csv('Data/de_bilt_weather.csv')\n",
    "df_bilt['days'] = df_bilt['days'] - 1\n",
    "df_bilt2000 = df_bilt.loc[df_bilt['year'] == 2000].copy()\n",
    "df_bilt2001 = df_bilt.loc[df_bilt['year'] == 2001].copy()\n",
    "\n",
    "variables = ['cloud_cover', 'wind_speed', 'wind_gust', 'humidity',          # george\n",
    "            'pressure', 'global_radiation', 'precipitation', 'sunshine',    # skipper\n",
    "            'temp_mean', 'temp_min', 'temp_max']                            # thijs\n",
    "\n",
    "n_var = len(variables)\n",
    "\n",
    "temp_data = np.array(df_bilt2000['temp_mean'][:30])\n",
    "temp_data"
   ]
  },
  {
   "cell_type": "code",
   "execution_count": null,
   "metadata": {},
   "outputs": [],
   "source": [
    "k_array = np.arange(10)\n",
    "t_array = np.arange(1, 10)\n",
    "\n",
    "np.outer(k_array, t_array)"
   ]
  },
  {
   "cell_type": "code",
   "execution_count": null,
   "metadata": {},
   "outputs": [],
   "source": [
    "def DFT(data):\n",
    "    N = len(data)\n",
    "    \n",
    "    k_array = np.arange(N)\n",
    "    t_array = np.arange(N)\n",
    "\n",
    "    exponentials =  np.exp(-2j * np.pi * np.outer(k_array, t_array) / N)\n",
    "    coefs = exponentials @ data\n",
    "    \n",
    "    return k_array, coefs\n",
    "\n",
    "def predict(t_array, k_array, coefs):\n",
    "    N = len(coefs)\n",
    "    prediction = np.zeros(len(t_array))\n",
    "\n",
    "    for k in k_array:\n",
    "        A = np.abs(coefs[k]) / N\n",
    "        phase = np.angle(coefs[k])\n",
    "        prediction += A * np.cos(phase + 2 * np.pi * k * t_array / N)\n",
    "\n",
    "    return prediction\n",
    "\n",
    "k, coefs = DFT(df_bilt2000['temp_mean'])\n",
    "\n",
    "threshold = 0\n",
    "mask = np.abs(coefs) > threshold\n",
    "\n",
    "filtered_k = k[mask]\n",
    "\n",
    "t_prediction = np.arange(730)\n",
    "temp_transformed = predict(t_prediction, filtered_k, coefs)\n",
    "\n",
    "plt.errorbar(df_bilt2000['days'], df_bilt2000['temp_mean'], label='training data', color='tab:blue')\n",
    "plt.errorbar(df_bilt2001['days'], df_bilt2001['temp_mean'], label='training data', color='tab:orange', fmt='o')\n",
    "\n",
    "plt.errorbar(t_prediction, temp_transformed, label='model', color='black', fmt='--')\n",
    "plt.xlim(365, 400)\n"
   ]
  },
  {
   "cell_type": "code",
   "execution_count": null,
   "metadata": {},
   "outputs": [],
   "source": [
    "plt.plot(k, np.abs(coefs.real))\n",
    "plt.yscale('log')"
   ]
  }
 ],
 "metadata": {
  "kernelspec": {
   "display_name": "SP",
   "language": "python",
   "name": "python3"
  },
  "language_info": {
   "codemirror_mode": {
    "name": "ipython",
    "version": 3
   },
   "file_extension": ".py",
   "mimetype": "text/x-python",
   "name": "python",
   "nbconvert_exporter": "python",
   "pygments_lexer": "ipython3",
   "version": "3.13.0"
  }
 },
 "nbformat": 4,
 "nbformat_minor": 2
}
