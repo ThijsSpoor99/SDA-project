{
 "cells": [
  {
   "cell_type": "code",
   "execution_count": null,
   "metadata": {},
   "outputs": [],
   "source": [
    "import pandas as pd\n",
    "import matplotlib.pyplot as plt"
   ]
  },
  {
   "cell_type": "code",
   "execution_count": null,
   "metadata": {},
   "outputs": [],
   "source": [
    "df_main = pd.read_csv('Data/water.csv')\n",
    "df_main['Date'] = df_main['Date'].astype(str)\n",
    "df_main['year'] = df_main['Date'].str.slice(6, 10)\n",
    "df_main['month'] = df_main['Date'].str.slice(0, 2)\n",
    "df_main['day'] = df_main['Date'].str.slice(3, 5)\n",
    "df_main['Date'] = df_main['year'] + df_main['month'] + df_main['day']\n",
    "df_main['Date'] = df_main['Date'].astype(int)\n",
    "df_main"
   ]
  },
  {
   "cell_type": "code",
   "execution_count": null,
   "metadata": {},
   "outputs": [],
   "source": [
    "for column in ['T_degC', 'PO4uM', 'SiO3uM', 'NO2uM', 'NO3uM', 'Salnty']:\n",
    "    plt.figure()\n",
    "    plt.errorbar(df_main['Depthm'].astype(int), df_main[column], fmt='o', markersize=1, color='tab:blue')\n",
    "    plt.xlabel(f'Depth (m)')\n",
    "    plt.ylabel(f'{column}')\n",
    "    plt.savefig(f'Figures/{column}.png', dpi=400)"
   ]
  }
 ],
 "metadata": {
  "kernelspec": {
   "display_name": "SP",
   "language": "python",
   "name": "python3"
  },
  "language_info": {
   "codemirror_mode": {
    "name": "ipython",
    "version": 3
   },
   "file_extension": ".py",
   "mimetype": "text/x-python",
   "name": "python",
   "nbconvert_exporter": "python",
   "pygments_lexer": "ipython3",
   "version": "3.13.0"
  }
 },
 "nbformat": 4,
 "nbformat_minor": 2
}
