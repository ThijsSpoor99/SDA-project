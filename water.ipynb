{
 "cells": [
  {
   "cell_type": "code",
   "execution_count": null,
   "metadata": {},
   "outputs": [],
   "source": [
    "import pandas as pd\n",
    "import matplotlib.pyplot as plt"
   ]
  },
  {
   "cell_type": "code",
   "execution_count": null,
   "metadata": {},
   "outputs": [],
   "source": [
    "df_main = pd.read_csv('Data/water.csv')\n",
    "df_main"
   ]
  },
  {
   "cell_type": "code",
   "execution_count": null,
   "metadata": {},
   "outputs": [],
   "source": [
    "for column in ['T_degC', 'PO4uM', 'SiO3uM', 'NO2uM', 'NO3uM', 'Salnty']:\n",
    "    plt.figure()\n",
    "    plt.errorbar(df_main[column], df_main['O2ml_L'], fmt='o', markersize=1, color='tab:blue')\n",
    "    plt.xlabel(f'{column}')\n",
    "    plt.ylabel('Oxygenation (ml/L)')\n",
    "    plt.savefig(f'Figures/{column}.png', dpi=400)"
   ]
  }
 ],
 "metadata": {
  "kernelspec": {
   "display_name": "SP",
   "language": "python",
   "name": "python3"
  },
  "language_info": {
   "codemirror_mode": {
    "name": "ipython",
    "version": 3
   },
   "file_extension": ".py",
   "mimetype": "text/x-python",
   "name": "python",
   "nbconvert_exporter": "python",
   "pygments_lexer": "ipython3",
   "version": "3.13.0"
  }
 },
 "nbformat": 4,
 "nbformat_minor": 2
}
